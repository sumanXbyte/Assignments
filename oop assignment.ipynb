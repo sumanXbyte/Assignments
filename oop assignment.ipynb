{
 "cells": [
  {
   "cell_type": "markdown",
   "id": "430b78b9",
   "metadata": {},
   "source": [
    "1. What is Object-Oriented Programming (OOP)?\n",
    "-> Object-Oriented Programming is a programming paradigm that organizes software design around data, or objects, rather than functions and logic. Think of it as a way of modeling real-world entities in your code.\n",
    "\n",
    "2. What is a class in OOP?\n",
    "-> A class is essentially a blueprint or template for creating objects. It defines the structure and behavior that the objects created from it will have.\n",
    "The class serves as the definition, while objects are the concrete instances. This separation is powerful because you can define the structure once and then create as many objects as you need, each with their own specific values for the attributes.\n",
    "\n",
    "3. What is an object in OOP?\n",
    "-> An object is a concrete instance of a class. If the class is the blueprint, the object is the actual thing built from that blueprint. Objects are the fundamental building blocks that your program manipulates at runtime. They hold state through their attributes and expose behavior through their methods. \n",
    "\n",
    "4. What is the difference between abstraction and encapsulation?\n",
    "-> Abstraction is about hiding complexity and showing only what's necessary. In programming, abstraction means exposing only the essential features of an object while hiding the implementation details. You define what an object does, not necessarily how it does it.\n",
    "Encapsulation, on the other hand, is about bundling data and the methods that operate on that data together, and restricting direct access to some of the object's components.In Python, encapsulation means keeping an object's internal state private and providing controlled access through public methods.\n",
    "\n",
    "5. What are dunder methods in Python?\n",
    "-> Dunder methods, short for \"double underscore\" methods, are special methods in Python that have double underscores before and after their names, like __init__, __str__, or __add__. They're also called magic methods or special methods because they give your classes special powers. These methods allow you to define how your objects behave with Python's built-in operations. When you use the plus operator to add two numbers, Python is actually calling the __add__ method behind the scenes. When you print an object, Python calls its __str__ method. When you create a new instance of a class, Python automatically calls the __init__ method to initialize it.\n",
    "\n",
    "6. Explain the concept of inheritance in OOP?\n",
    "-> Inheritance is one of the most powerful concepts in OOP. It allows you to create a new class based on an existing class, inheriting all its attributes and methods while adding new ones or modifying existing ones.\n",
    "Imagine you're designing a classification system for animals. You might start with a general Animal class that has common properties like age, weight, and methods like eat() and sleep(). Now, when you want to create a Dog class, instead of rewriting all those common features, you can say that Dog inherits from Animal. The Dog class automatically gets all the properties and methods of Animal, and you only need to add what's unique to dogs, like bark().\n",
    "Python supports single inheritance, where a class inherits from one parent, and multiple inheritance, where a class can inherit from multiple parents. This flexibility allows you to model complex relationships, though multiple inheritance should be used carefully as it can introduce complexity.\n",
    "\n",
    "7. What is polymorphism in OOP?\n",
    "-> Polymorphism, which literally means \"many forms,\" is the ability of different objects to respond to the same method call in their own way. It's one of the most elegant concepts in OOP because it allows you to write flexible, extensible code.\n",
    "In programming terms, polymorphism means that you can define a method in a parent class, and each child class can provide its own implementation of that method. For instance, you might have an Animal class with a speak() method. When you call speak() on a Dog object, it returns \"Bark!\" When you call it on a Cat object, it returns \"Meow!\" Same method name, different behaviors based on the object type.\n",
    "\n",
    "8. How is encapsulation achieved in Python?\n",
    "-> Encapsulation in Python is achieved through naming conventions and the use of properties. In Python, you create private attributes by prefixing their names with double underscores, like __balance. This triggers name mangling, where Python internally renames the attribute to _ClassName__balance, making it harder (but not impossible) to access from outside the class. This isn't true privacy in the strictest sense, but it signals to other developers that this attribute is internal and shouldn't be accessed directly.\n",
    "\n",
    "9. What is a constructor in Python?\n",
    "-> A constructor is a special method that gets called automatically when you create a new instance of a class. In Python, the constructor is the __init__ method.\n",
    "Constructors are crucial because they ensure that every object starts in a valid, usable state. Without a constructor, you'd have to manually set up every attribute after creating an object, which is error-prone.\n",
    "\n",
    "10. What are class and static methods in Python?\n",
    "-> Class methods, defined with the @classmethod decorator, take cls as their first parameter instead of self. The cls parameter refers to the class itself, not an instance. Class methods are bound to the class rather than instances. They're useful when you need to work with the class as a whole rather than a specific object. A common use case is alternative constructors. For example, you might have a Date class with a class method from_string() that creates a Date object from a string representation. Class methods can access and modify class variables, which are shared across all instances.\n",
    "Static methods, defined with the @staticmethod decorator, don't take either self or cls as a parameter. They're essentially regular functions that happen to live inside a class for organizational purposes. Static methods don't access or modify class or instance state. They're used when you have a function that logically belongs with a class but doesn't need access to class or instance data. For instance, a MathOperations class might have a static method is_prime() that checks if a number is prime. This method doesn't need any class or instance data; it just performs a calculation.\n",
    "\n",
    "11. What is method overloading in Python?\n",
    "-> Method overloading is the ability to define multiple methods with the same name but different parameters. However, Python achieves similar functionality through different mechanisms. The most common approach is using default parameter values. Instead of defining three separate add methods for two numbers, three numbers, and four numbers, you define one method with optional parameters: def add(a, b, c=0, d=0). This single method can handle multiple scenarios.\n",
    "Another approach is using variable-length arguments with *args or **kwargs. You can define a method that accepts any number of positional or keyword arguments and handles them accordingly. For example, def add(*numbers) can accept any number of arguments and sum them all.\n",
    "\n",
    "12. What is method overriding in OOP?\n",
    "-> Method overriding is when a child class provides its own implementation of a method that's already defined in its parent class. This is a fundamental aspect of inheritance and polymorphism.\n",
    "In programming terms, when a child class defines a method with the same name as a method in its parent class, the child's version takes precedence. When you call that method on an object of the child class, Python executes the child's version, not the parent's. The child's method overrides the parent's method.\n",
    "\n",
    "13. What is a property decorator in Python?\n",
    "-> The property decorator is a powerful feature that allows you to create managed attributes. It lets you define getter, setter, and deleter methods for an attribute while making them look like simple attribute access from the outside.\n",
    "Properties solve this elegantly. You define your getter method and decorate it with @property. Now it looks like a regular attribute from the outside, but your method code runs whenever someone accesses it. You can then define a setter method decorated with @attribute_name.setter that runs whenever someone assigns a value to the attribute. The deleter, decorated with @attribute_name.deleter, runs when someone deletes the attribute.\n",
    "\n",
    "14. Why is polymorphism important in OOP?\n",
    "-> First, polymorphism allows you to write generic code that works with many types. Imagine you're building a graphics program. You have different shape objects like circles, rectangles, and triangles. Each needs to be drawn differently, but you want a single function that can draw any shape. With polymorphism, you write one draw_all_shapes() function that iterates through a list of shapes and calls the draw() method on each.\n",
    "Second, polymorphism supports the open/closed principle, which states that code should be open for extension but closed for modification. When you add a new shape type to your graphics program, you don't need to modify the existing draw_all_shapes() function or any other code that works with shapes. You just create your new shape class, implement the draw() method, and it works seamlessly with all existing code. This is incredibly powerful for maintaining and extending large codebases.\n",
    "In essence, polymorphism is about writing code at a higher level of abstraction. Instead of getting bogged down in the specifics of each type, you work with concepts and interfaces. This makes your code more elegant, maintainable, and scalable.\n",
    "\n",
    "15. What is an abstract class in Python?\n",
    "-> An abstract class is a class that cannot be instantiated directly and is designed to be inherited by other classes. It serves as a template that defines a common interface for a group of related classes.\n",
    "In Python, abstract classes are created using the ABC module, which stands for Abstract Base Class. You define an abstract class by inheriting from ABC and marking certain methods as abstract using the @abstractmethod decorator. \n",
    "\n",
    "16. What are the advantages of OOP?\n",
    "-> The first major advantage is modularity. OOP encourages you to break down complex problems into smaller, self-contained objects. Each object has a specific responsibility and manages its own data.\n",
    "Code reusability is another huge benefit. Through inheritance, you can create new classes that build upon existing ones without rewriting code. Common functionality lives in parent classes and is automatically available to all children.\n",
    "Maintainability improves dramatically with OOP. When you need to fix a bug or add a feature, you typically only need to modify one class. \n",
    "\n",
    "17. What is the difference between a class variable and an instance variable?\n",
    "-> Understanding the difference between class variables and instance variables is crucial for properly managing state in your objects. These two types of variables serve different purposes and behave very differently.\n",
    "Instance variables are unique to each instance of a class. When you create an object, it gets its own copy of all instance variables, and changes to those variables in one object don't affect other objects. Instance variables are typically defined inside the __init__ method using self. For example, if you have a Student class with an instance variable name, each Student object has its own name. Changing student1's name doesn't affect student2's name.\n",
    "Class variables, on the other hand, are shared among all instances of the class. There's only one copy of a class variable, and all instances access the same copy. Class variables are defined directly in the class body, outside any methods. They're useful for data that should be shared across all instances or for maintaining class-level information.\n",
    "\n",
    "18. What is multiple inheritance in Python?\n",
    "-> Multiple inheritance is Python's feature that allows a class to inherit from more than one parent class simultaneously. This is both powerful and potentially complex, so understanding how it works is important.\n",
    "In Python, you specify multiple inheritance by listing multiple parent classes in the class definition, like class Child(Parent1, Parent2, Parent3). The child class inherits all methods and attributes from all its parents. This allows you to compose functionality from different sources, creating classes that combine capabilities from multiple domains.\n",
    "\n",
    "19. Explain the purpose of __str__ and __repr__ methods in Python\n",
    "-> The __str__ method is designed to create a readable, user-friendly string representation of an object. It's what gets called when you use the str() function or the print() function on an object. Think of __str__ as the version you'd show to end users. It should be clear, concise, and focused on usability rather than completeness. For example, a Person object's __str__ might return something like \"John Doe, age 30\" which is easy to read and understand.\n",
    "The __repr__ method, short for representation, is designed to create an unambiguous, developer-friendly string representation. It's what gets called when you use the repr() function on an object, or when you view an object in the interactive interpreter. Think of __repr__ as the version you'd show to other developers. Ideally, it should contain enough information to recreate the object. The convention is that __repr__ should return a string that looks like valid Python code, such as \"Person(name='John Doe', age=30)\". If you could copy this string and paste it into Python, it should create an equivalent object.\n",
    "\n",
    "20. What is the significance of the super() function in Python?\n",
    "-> The super() function is a powerful tool for working with inheritance. It allows a child class to call methods from its parent class, which is essential for extending and customizing inherited behavior.\n",
    "The most common use of super() is in constructors. When you create a child class, you often want to initialize all the parent's attributes and then add some of your own. You call super().__init__() to run the parent's initialization code, which sets up all the inherited attributes properly. Then you add your child-specific initialization. Without super(), you'd have to duplicate all the parent's initialization code in the child, which violates the DRY principle and makes maintenance harder.\n",
    "\n",
    "21. What is the significance of the __del__ method in Python?\n",
    "-> The __del__ method, often called a destructor or finalizer, is a special method that gets called when an object is about to be destroyed. \n",
    "In Python, __del__ is invoked when the object's reference count drops to zero, meaning there are no more references to the object anywhere in the program. At this point, Python's garbage collector can reclaim the memory. Think of __del__ as a cleanup crew that arrives after everyone has left a building and there's no one left to need it.\n",
    "\n",
    "22. What is the difference between @staticmethod and @classmethod in Python?\n",
    "-> Static methods, defined with @staticmethod, are essentially regular functions that happen to live inside a class namespace. They don't receive any special first parameter. They can't access or modify class state or instance state. Think of a static method as a utility function that logically belongs with a class but doesn't need any of the class's data.\n",
    "Class methods, defined with @classmethod, receive the class itself as their first parameter, conventionally named cls. This gives them access to class-level data and the ability to call other class methods or create instances. Think of a class method as something that operates on the class as a whole rather than on individual instances. The most common use case is alternative constructors.\n",
    "The key difference is what they can access. Static methods can't access anything about the class or its instances. Class methods can access and modify class variables and can create new instances of the class. Static methods are completely independent; class methods are bound to the class.\n",
    "\n",
    "23.  How does polymorphism work in Python with inheritance?\n",
    "-> Polymorphism in Python works seamlessly with inheritance through method overriding and dynamic dispatch, creating a powerful system for writing flexible, extensible code. Let me walk you through how this mechanism works.\n",
    "When you inherit from a parent class and override one of its methods, you're creating a polymorphic relationship. The child class maintains the same method signature as the parent but provides its own implementation. At runtime, when you call that method on an object, Python automatically executes the version that matches the object's actual type, not the variable's declared type. This is called dynamic dispatch or late binding.\n",
    "\n",
    "24. What is method chaining in Python OOP?\n",
    "-> Method chaining is a programming pattern where multiple methods are called on the same object in a single statement, with each method call's result flowing into the next. It creates a fluent, readable interface that feels almost like natural language.\n",
    "Imagine you're giving someone directions: \"Walk to the corner, turn left, go straight for two blocks, then turn right.\" Each instruction builds on the previous one in a smooth flow. Method chaining works the same way in code. Instead of writing multiple separate statements, you chain them together: object.method1().method2().method3().\n",
    "The key to enabling method chaining is that each method returns self (the object itself) rather than returning None or some other value. By returning self, you're saying \"here's the object back, you can keep working with it.\" This allows the next method in the chain to be called on the returned object.\n",
    "\n",
    "25. What is the purpose of the __call__ method in Python?\n",
    "-> The __call__ method is a special dunder method that makes instances of a class callable, meaning you can use them like functions. When you define __call__ in a class, objects of that class can be invoked using the function call syntax with parentheses.\n",
    "Think of __call__ as giving your object a superpower: the ability to act like a function while still being an object with state and other methods. It's like someone who can both be a person with a name and history, and also be called upon to perform an action, like a consultant who can be hired to do a job.\n",
    "\n",
    "\n",
    "\n"
   ]
  },
  {
   "cell_type": "code",
   "execution_count": 1,
   "id": "dede5ef8",
   "metadata": {},
   "outputs": [
    {
     "name": "stdout",
     "output_type": "stream",
     "text": [
      "bark!\n"
     ]
    }
   ],
   "source": [
    "# 1: Parent class Animal with child class Dog overriding speak()\n",
    "class Animal:\n",
    "    \"\"\"parent class represent a generic animal\"\"\"\n",
    "    def speak(self):\n",
    "        \"\"\"generic mathod that prints a generic massage\"\"\"\n",
    "        print(\"some generic animal sound\")\n",
    "\n",
    "class dog(Animal):\n",
    "    \"\"\"child clas inherit from Animal\"\"\"\n",
    "    print(\"bark!\")"
   ]
  },
  {
   "cell_type": "code",
   "execution_count": 5,
   "id": "5e4ded92",
   "metadata": {},
   "outputs": [
    {
     "name": "stdout",
     "output_type": "stream",
     "text": [
      "Generic animal says:\n",
      "some generic animal sound\n",
      "\n",
      "Dog says:\n",
      "some generic animal sound\n"
     ]
    }
   ],
   "source": [
    "generic_animal = Animal()\n",
    "my_dog = dog()\n",
    "print(\"Generic animal says:\")\n",
    "generic_animal.speak()\n",
    "\n",
    "print(\"\\nDog says:\")\n",
    "my_dog.speak()\n"
   ]
  },
  {
   "cell_type": "code",
   "execution_count": 25,
   "id": "793093b0",
   "metadata": {},
   "outputs": [],
   "source": [
    "# 2: Abstract class Shape with Circle and Rectangle\n",
    "from abc import ABC, abstractmethod\n",
    "import math\n",
    "class Shape(ABC):\n",
    "    \"\"\"abstract base class for all shapeas\"\"\"\n",
    "    @abstractmethod\n",
    "    def area(self):\n",
    "        pass\n",
    "\n",
    "\n",
    "class Circle(Shape):\n",
    "    \"\"\"Circle class that implements the area method\"\"\"\n",
    "    \n",
    "    def __init__(self, radius):\n",
    "        \"\"\"Initialize circle with radius\"\"\"\n",
    "        self.radius = radius\n",
    "    \n",
    "    def area(self):\n",
    "        \"\"\"Calculate and return the area of the circle\"\"\"\n",
    "        return math.pi * self.radius ** 2\n",
    "\n",
    "    \n",
    "class Rectangle(Shape):\n",
    "    def __init__(self, length, width):\n",
    "        self.length = length\n",
    "        self.width = width\n",
    "\n",
    "    def area(self):\n",
    "        return self.length * self.width\n",
    "        \n",
    "        \n",
    "\n",
    "    "
   ]
  },
  {
   "cell_type": "code",
   "execution_count": 26,
   "id": "f791d84a",
   "metadata": {},
   "outputs": [
    {
     "name": "stdout",
     "output_type": "stream",
     "text": [
      "Circle with radius 5 has area: 78.54\n",
      "Rectangle with length 4 and width 6 has area: 24\n"
     ]
    }
   ],
   "source": [
    "\n",
    "g = Circle(5)           \n",
    "r = Rectangle(4, 6)     \n",
    "\n",
    "# Call methods on the objects (instances), not the classes\n",
    "print(f\"Circle with radius 5 has area: {g.area():.2f}\")\n",
    "print(f\"Rectangle with length 4 and width 6 has area: {r.area()}\")"
   ]
  },
  {
   "cell_type": "code",
   "execution_count": 27,
   "id": "1b927d0f",
   "metadata": {},
   "outputs": [],
   "source": [
    "# 3: Multi-level inheritance with Vehicle, Car, ElectricCar\n",
    "class Vehicle:\n",
    "    \"\"\"Base class representing a generic vehicle\"\"\"\n",
    "    \n",
    "    def __init__(self, vehicle_type):\n",
    "        \"\"\"Initialize vehicle with its type\"\"\"\n",
    "        self.type = vehicle_type\n",
    "    \n",
    "    def display_info(self):\n",
    "        \"\"\"Display basic vehicle information\"\"\"\n",
    "        print(f\"Vehicle Type: {self.type}\")\n",
    "\n",
    "\n",
    "class Car(Vehicle):\n",
    "    \"\"\"Car class that inherits from Vehicle\"\"\"\n",
    "    \n",
    "    def __init__(self, vehicle_type, brand):\n",
    "        \"\"\"Initialize car with type and brand\"\"\"\n",
    "        # Call parent constructor to set the type\n",
    "        super().__init__(vehicle_type)\n",
    "        self.brand = brand\n",
    "    \n",
    "    def display_info(self):\n",
    "        \"\"\"Display car information including brand\"\"\"\n",
    "        super().display_info()\n",
    "        print(f\"Brand: {self.brand}\")\n",
    "\n",
    "\n",
    "class ElectricCar(Car):\n",
    "    \"\"\"ElectricCar class that inherits from Car\"\"\"\n",
    "    \n",
    "    def __init__(self, vehicle_type, brand, battery):\n",
    "        \"\"\"Initialize electric car with type, brand, and battery capacity\"\"\"\n",
    "        # Call parent constructor to set type and brand\n",
    "        super().__init__(vehicle_type, brand)\n",
    "        self.battery = battery\n",
    "    \n",
    "    def display_info(self):\n",
    "        \"\"\"Display complete electric car information\"\"\"\n",
    "        super().display_info()\n",
    "        print(f\"Battery Capacity: {self.battery} kWh\")\n"
   ]
  },
  {
   "cell_type": "code",
   "execution_count": 28,
   "id": "834159e7",
   "metadata": {},
   "outputs": [
    {
     "name": "stdout",
     "output_type": "stream",
     "text": [
      "Electric Car Details:\n",
      "Vehicle Type: Sedan\n",
      "Brand: Tesla\n",
      "Battery Capacity: 75 kWh\n"
     ]
    }
   ],
   "source": [
    "tesla = ElectricCar(\"Sedan\", \"Tesla\", 75)\n",
    "print(\"Electric Car Details:\")\n",
    "tesla.display_info()"
   ]
  },
  {
   "cell_type": "code",
   "execution_count": 29,
   "id": "fadc9e1f",
   "metadata": {},
   "outputs": [],
   "source": [
    "# 4: Polymorphism with Bird, Sparrow, and Penguin\n",
    "class Bird:\n",
    "    \"\"\"Base class representing a generic bird\"\"\"\n",
    "    \n",
    "    def fly(self):\n",
    "        \"\"\"Generic fly method\"\"\"\n",
    "        print(\"This bird can fly\")\n",
    "\n",
    "\n",
    "class Sparrow(Bird):\n",
    "    \"\"\"Sparrow class that can fly\"\"\"\n",
    "    \n",
    "    def fly(self):\n",
    "        \"\"\"Override fly method for sparrow\"\"\"\n",
    "        print(\"Sparrow flies high in the sky\")\n",
    "\n",
    "\n",
    "class Penguin(Bird):\n",
    "    \"\"\"Penguin class that cannot fly\"\"\"\n",
    "    \n",
    "    def fly(self):\n",
    "        \"\"\"Override fly method for penguin\"\"\"\n",
    "        print(\"Penguins cannot fly, but they swim excellently!\")\n",
    "\n"
   ]
  },
  {
   "cell_type": "code",
   "execution_count": 30,
   "id": "9f49b016",
   "metadata": {},
   "outputs": [
    {
     "name": "stdout",
     "output_type": "stream",
     "text": [
      "This bird can fly\n",
      "Sparrow flies high in the sky\n",
      "Penguins cannot fly, but they swim excellently!\n"
     ]
    }
   ],
   "source": [
    "birds = [Bird(), Sparrow(), Penguin()]\n",
    "\n",
    "for bird in birds:\n",
    "    bird.fly()"
   ]
  },
  {
   "cell_type": "code",
   "execution_count": 31,
   "id": "71b583f0",
   "metadata": {},
   "outputs": [],
   "source": [
    "# 5: Encapsulation with BankAccount\n",
    "class BankAccount:\n",
    "    \"\"\"Bank account class demonstrating encapsulation\"\"\"\n",
    "    \n",
    "    def __init__(self, initial_balance=0):\n",
    "        \"\"\"Initialize account with optional initial balance\"\"\"\n",
    "        # Private attribute (name mangling with double underscore)\n",
    "        self.__balance = initial_balance\n",
    "    \n",
    "    def deposit(self, amount):\n",
    "        \"\"\"Deposit money into the account\"\"\"\n",
    "        if amount > 0:\n",
    "            self.__balance += amount\n",
    "            print(f\"Deposited ${amount}. New balance: ${self.__balance}\")\n",
    "        else:\n",
    "            print(\"Deposit amount must be positive\")\n",
    "    \n",
    "    def withdraw(self, amount):\n",
    "        \"\"\"Withdraw money from the account\"\"\"\n",
    "        if amount > 0:\n",
    "            if amount <= self.__balance:\n",
    "                self.__balance -= amount\n",
    "                print(f\"Withdrew ${amount}. New balance: ${self.__balance}\")\n",
    "            else:\n",
    "                print(\"Insufficient funds!\")\n",
    "        else:\n",
    "            print(\"Withdrawal amount must be positive\")\n",
    "    \n",
    "    def check_balance(self):\n",
    "        \"\"\"Check and return current balance\"\"\"\n",
    "        return self.__balance"
   ]
  },
  {
   "cell_type": "code",
   "execution_count": 32,
   "id": "f519ae84",
   "metadata": {},
   "outputs": [
    {
     "name": "stdout",
     "output_type": "stream",
     "text": [
      "Initial balance: $1000\n",
      "Deposited $500. New balance: $1500\n",
      "Withdrew $200. New balance: $1300\n",
      "Insufficient funds!\n",
      "Final balance: $1300\n"
     ]
    }
   ],
   "source": [
    "account = BankAccount(1000)\n",
    "print(f\"Initial balance: ${account.check_balance()}\")\n",
    "account.deposit(500)\n",
    "account.withdraw(200)\n",
    "account.withdraw(2000)  # This should fail\n",
    "print(f\"Final balance: ${account.check_balance()}\")\n"
   ]
  },
  {
   "cell_type": "code",
   "execution_count": 34,
   "id": "724794ba",
   "metadata": {},
   "outputs": [],
   "source": [
    "# 6: Runtime polymorphism with Instrument\n",
    "class Instrument:\n",
    "    \"\"\"Base class for musical instruments\"\"\"\n",
    "    \n",
    "    def play(self):\n",
    "        \"\"\"Generic play method\"\"\"\n",
    "        print(\"Playing an instrument\")\n",
    "\n",
    "\n",
    "class Guitar(Instrument):\n",
    "    \"\"\"Guitar class with its own play implementation\"\"\"\n",
    "    \n",
    "    def play(self):\n",
    "        \"\"\"Override play method for guitar\"\"\"\n",
    "        print(\"Strumming the guitar: ♪ ♫ ♪\")\n",
    "\n",
    "\n",
    "class Piano(Instrument):\n",
    "    \"\"\"Piano class with its own play implementation\"\"\"\n",
    "    \n",
    "    def play(self):\n",
    "        \"\"\"Override play method for piano\"\"\"\n",
    "        print(\"Playing the piano: ♫ ♪ ♫\")"
   ]
  },
  {
   "cell_type": "code",
   "execution_count": 35,
   "id": "933a0cb3",
   "metadata": {},
   "outputs": [
    {
     "name": "stdout",
     "output_type": "stream",
     "text": [
      "Strumming the guitar: ♪ ♫ ♪\n",
      "Playing the piano: ♫ ♪ ♫\n",
      "Playing an instrument\n"
     ]
    }
   ],
   "source": [
    "instruments = [Guitar(), Piano(), Instrument()]\n",
    "\n",
    "for instrument in instruments:\n",
    "    instrument.play()"
   ]
  },
  {
   "cell_type": "code",
   "execution_count": 40,
   "id": "143c24d3",
   "metadata": {},
   "outputs": [
    {
     "name": "stdout",
     "output_type": "stream",
     "text": [
      "Addition: 10 + 5 = 15\n",
      "Subtraction: 10 - 5 = 5\n"
     ]
    }
   ],
   "source": [
    "# 7: Class and static methods in MathOperations\n",
    "class MathOperations:\n",
    "    \"\"\"Class demonstrating class methods and static methods\"\"\"\n",
    "    \n",
    "    @classmethod\n",
    "    def add_numbers(cls, a, b):\n",
    "        \"\"\"Class method to add two numbers\"\"\"\n",
    "        return a + b\n",
    "    \n",
    "    @staticmethod\n",
    "    def subtract_numbers(a, b):\n",
    "        \"\"\"Static method to subtract two numbers\"\"\"\n",
    "        return a - b\n",
    "    \n",
    "result_add = MathOperations.add_numbers(10, 5)\n",
    "result_subtract = MathOperations.subtract_numbers(10, 5)\n",
    "\n",
    "print(f\"Addition: 10 + 5 = {result_add}\")\n",
    "print(f\"Subtraction: 10 - 5 = {result_subtract}\")"
   ]
  },
  {
   "cell_type": "code",
   "execution_count": 42,
   "id": "2f8a932e",
   "metadata": {},
   "outputs": [
    {
     "name": "stdout",
     "output_type": "stream",
     "text": [
      "After creating 3 persons: 3\n"
     ]
    }
   ],
   "source": [
    "# 8: Class method to count Person instances\n",
    "class Person:\n",
    "    \"\"\"Person class that tracks total number of persons created\"\"\"\n",
    "    \n",
    "    # Class variable to track total count\n",
    "    total_persons = 0\n",
    "    \n",
    "    def __init__(self, name):\n",
    "        \"\"\"Initialize person and increment counter\"\"\"\n",
    "        self.name = name\n",
    "        # Increment the class variable\n",
    "        Person.total_persons += 1\n",
    "    \n",
    "    @classmethod\n",
    "    def get_total_persons(cls):\n",
    "        \"\"\"Class method to return total number of persons created\"\"\"\n",
    "        return cls.total_persons\n",
    "    \n",
    "    \n",
    "\n",
    "person1 = Person(\"Alice\")\n",
    "person2 = Person(\"Bob\")\n",
    "person3 = Person(\"Charlie\")\n",
    "\n",
    "print(f\"After creating 3 persons: {Person.get_total_persons()}\")\n"
   ]
  },
  {
   "cell_type": "code",
   "execution_count": 43,
   "id": "0895cbd1",
   "metadata": {},
   "outputs": [
    {
     "name": "stdout",
     "output_type": "stream",
     "text": [
      "Fraction 1: 3/4\n",
      "Fraction 2: 5/8\n"
     ]
    }
   ],
   "source": [
    "# 9: Fraction class with __str__ override\n",
    "class Fraction:\n",
    "    \"\"\"Class representing a mathematical fraction\"\"\"\n",
    "    \n",
    "    def __init__(self, numerator, denominator):\n",
    "        \"\"\"Initialize fraction with numerator and denominator\"\"\"\n",
    "        if denominator == 0:\n",
    "            raise ValueError(\"Denominator cannot be zero\")\n",
    "        self.numerator = numerator\n",
    "        self.denominator = denominator\n",
    "    \n",
    "    def __str__(self):\n",
    "        \"\"\"Override __str__ to display fraction as 'numerator/denominator'\"\"\"\n",
    "        return f\"{self.numerator}/{self.denominator}\"\n",
    "\n",
    "\n",
    "frac1 = Fraction(3, 4)\n",
    "frac2 = Fraction(5, 8)\n",
    "\n",
    "print(f\"Fraction 1: {frac1}\")\n",
    "print(f\"Fraction 2: {frac2}\")"
   ]
  },
  {
   "cell_type": "code",
   "execution_count": 44,
   "id": "a49e55bf",
   "metadata": {},
   "outputs": [
    {
     "name": "stdout",
     "output_type": "stream",
     "text": [
      "Vector 1: Vector(2, 3)\n",
      "Vector 2: Vector(4, 5)\n",
      "Sum: Vector(6, 8)\n"
     ]
    }
   ],
   "source": [
    "# 10: Operator overloading with Vector\n",
    "class Vector:\n",
    "    \"\"\"Class representing a mathematical vector\"\"\"\n",
    "    \n",
    "    def __init__(self, x, y):\n",
    "        \"\"\"Initialize vector with x and y components\"\"\"\n",
    "        self.x = x\n",
    "        self.y = y\n",
    "    \n",
    "    def __add__(self, other):\n",
    "        \"\"\"Override + operator to add two vectors\"\"\"\n",
    "        return Vector(self.x + other.x, self.y + other.y)\n",
    "    \n",
    "    def __str__(self):\n",
    "        \"\"\"String representation of the vector\"\"\"\n",
    "        return f\"Vector({self.x}, {self.y})\"\n",
    "    \n",
    "v1 = Vector(2, 3)\n",
    "v2 = Vector(4, 5)\n",
    "v3 = v1 + v2  # This uses our overloaded __add__ method\n",
    "\n",
    "print(f\"Vector 1: {v1}\")\n",
    "print(f\"Vector 2: {v2}\")\n",
    "print(f\"Sum: {v3}\")"
   ]
  },
  {
   "cell_type": "code",
   "execution_count": 45,
   "id": "dc433ec8",
   "metadata": {},
   "outputs": [
    {
     "name": "stdout",
     "output_type": "stream",
     "text": [
      "Hello, my name is John and I am 30 years old.\n"
     ]
    }
   ],
   "source": [
    "# 11: Person class with greet method\n",
    "class PersonWithGreeting:\n",
    "    \"\"\"Person class with name, age, and greeting functionality\"\"\"\n",
    "    \n",
    "    def __init__(self, name, age):\n",
    "        \"\"\"Initialize person with name and age\"\"\"\n",
    "        self.name = name\n",
    "        self.age = age\n",
    "    \n",
    "    def greet(self):\n",
    "        \"\"\"Print a greeting message\"\"\"\n",
    "        print(f\"Hello, my name is {self.name} and I am {self.age} years old.\")\n",
    "\n",
    "\n",
    "person = PersonWithGreeting(\"John\", 30)\n",
    "person.greet()"
   ]
  },
  {
   "cell_type": "code",
   "execution_count": 46,
   "id": "1032fdeb",
   "metadata": {},
   "outputs": [
    {
     "name": "stdout",
     "output_type": "stream",
     "text": [
      "Student: Emma\n",
      "Grades: [85, 90, 78, 92, 88]\n",
      "Average Grade: 86.60\n"
     ]
    }
   ],
   "source": [
    "# 12: Student class with average grade calculation\n",
    "class Student:\n",
    "    \"\"\"Student class with grades and average calculation\"\"\"\n",
    "    \n",
    "    def __init__(self, name, grades):\n",
    "        \"\"\"Initialize student with name and list of grades\"\"\"\n",
    "        self.name = name\n",
    "        self.grades = grades\n",
    "    \n",
    "    def average_grade(self):\n",
    "        \"\"\"Calculate and return the average of all grades\"\"\"\n",
    "        if len(self.grades) == 0:\n",
    "            return 0\n",
    "        return sum(self.grades) / len(self.grades)\n",
    "    \n",
    "\n",
    "student = Student(\"Emma\", [85, 90, 78, 92, 88])\n",
    "print(f\"Student: {student.name}\")\n",
    "print(f\"Grades: {student.grades}\")\n",
    "print(f\"Average Grade: {student.average_grade():.2f}\")"
   ]
  },
  {
   "cell_type": "code",
   "execution_count": 47,
   "id": "446b5f22",
   "metadata": {},
   "outputs": [
    {
     "name": "stdout",
     "output_type": "stream",
     "text": [
      "Rectangle dimensions: 5 x 3\n",
      "Rectangle area: 15\n"
     ]
    }
   ],
   "source": [
    "# 13: Rectangle with set_dimensions and area methods\n",
    "class RectangleWithMethods:\n",
    "    \"\"\"Rectangle class with dimension setting and area calculation\"\"\"\n",
    "    \n",
    "    def __init__(self):\n",
    "        \"\"\"Initialize rectangle with default dimensions\"\"\"\n",
    "        self.length = 0\n",
    "        self.width = 0\n",
    "    \n",
    "    def set_dimensions(self, length, width):\n",
    "        \"\"\"Set the dimensions of the rectangle\"\"\"\n",
    "        self.length = length\n",
    "        self.width = width\n",
    "    \n",
    "    def area(self):\n",
    "        \"\"\"Calculate and return the area\"\"\"\n",
    "        return self.length * self.width\n",
    "    \n",
    "\n",
    "rect = RectangleWithMethods()\n",
    "rect.set_dimensions(5, 3)\n",
    "print(f\"Rectangle dimensions: {rect.length} x {rect.width}\")\n",
    "print(f\"Rectangle area: {rect.area()}\")\n"
   ]
  },
  {
   "cell_type": "code",
   "execution_count": 48,
   "id": "bee017a1",
   "metadata": {},
   "outputs": [
    {
     "name": "stdout",
     "output_type": "stream",
     "text": [
      "Employee John salary: $1000\n",
      "Manager Sarah salary: $3000\n"
     ]
    }
   ],
   "source": [
    "# 14: Employee and Manager with salary calculation\n",
    "class Employee:\n",
    "    \"\"\"Employee class with salary calculation based on hours and rate\"\"\"\n",
    "    \n",
    "    def __init__(self, name, hours_worked, hourly_rate):\n",
    "        \"\"\"Initialize employee with name, hours, and rate\"\"\"\n",
    "        self.name = name\n",
    "        self.hours_worked = hours_worked\n",
    "        self.hourly_rate = hourly_rate\n",
    "    \n",
    "    def calculate_salary(self):\n",
    "        \"\"\"Calculate and return the salary\"\"\"\n",
    "        return self.hours_worked * self.hourly_rate\n",
    "\n",
    "\n",
    "class Manager(Employee):\n",
    "    \"\"\"Manager class that adds a bonus to the base salary\"\"\"\n",
    "    \n",
    "    def __init__(self, name, hours_worked, hourly_rate, bonus):\n",
    "        \"\"\"Initialize manager with additional bonus attribute\"\"\"\n",
    "        super().__init__(name, hours_worked, hourly_rate)\n",
    "        self.bonus = bonus\n",
    "    \n",
    "    def calculate_salary(self):\n",
    "        \"\"\"Calculate salary including bonus\"\"\"\n",
    "        base_salary = super().calculate_salary()\n",
    "        return base_salary + self.bonus\n",
    "    \n",
    "\n",
    "employee = Employee(\"John\", 40, 25)\n",
    "manager = Manager(\"Sarah\", 40, 50, 1000)\n",
    "\n",
    "print(f\"Employee {employee.name} salary: ${employee.calculate_salary()}\")\n",
    "print(f\"Manager {manager.name} salary: ${manager.calculate_salary()}\")\n"
   ]
  },
  {
   "cell_type": "code",
   "execution_count": 49,
   "id": "9e21475a",
   "metadata": {},
   "outputs": [
    {
     "name": "stdout",
     "output_type": "stream",
     "text": [
      "Product: Laptop\n",
      "Unit Price: $999.99\n",
      "Quantity: 3\n",
      "Total Price: $2999.97\n"
     ]
    }
   ],
   "source": [
    "# 15: Product class with total price calculation\n",
    "class Product:\n",
    "    \"\"\"Product class with name, price, quantity, and total price calculation\"\"\"\n",
    "    \n",
    "    def __init__(self, name, price, quantity):\n",
    "        \"\"\"Initialize product with name, unit price, and quantity\"\"\"\n",
    "        self.name = name\n",
    "        self.price = price\n",
    "        self.quantity = quantity\n",
    "    \n",
    "    def total_price(self):\n",
    "        \"\"\"Calculate and return total price (price * quantity)\"\"\"\n",
    "        return self.price * self.quantity\n",
    "    \n",
    "product = Product(\"Laptop\", 999.99, 3)\n",
    "print(f\"Product: {product.name}\")\n",
    "print(f\"Unit Price: ${product.price}\")\n",
    "print(f\"Quantity: {product.quantity}\")\n",
    "print(f\"Total Price: ${product.total_price():.2f}\")  "
   ]
  },
  {
   "cell_type": "code",
   "execution_count": 50,
   "id": "d82d100e",
   "metadata": {},
   "outputs": [
    {
     "name": "stdout",
     "output_type": "stream",
     "text": [
      "Cow says: Moo!\n",
      "Sheep says: Baa!\n"
     ]
    }
   ],
   "source": [
    "# 16: Abstract Animal with Cow and Sheep implementing sound\n",
    "class AbstractAnimal(ABC):\n",
    "    \"\"\"Abstract base class for animals with abstract sound method\"\"\"\n",
    "    \n",
    "    @abstractmethod\n",
    "    def sound(self):\n",
    "        \"\"\"Abstract method that must be implemented by child classes\"\"\"\n",
    "        pass\n",
    "\n",
    "\n",
    "class Cow(AbstractAnimal):\n",
    "    \"\"\"Cow class implementing the sound method\"\"\"\n",
    "    \n",
    "    def sound(self):\n",
    "        \"\"\"Return the sound a cow makes\"\"\"\n",
    "        return \"Moo!\"\n",
    "\n",
    "\n",
    "class Sheep(AbstractAnimal):\n",
    "    \"\"\"Sheep class implementing the sound method\"\"\"\n",
    "    \n",
    "    def sound(self):\n",
    "        \"\"\"Return the sound a sheep makes\"\"\"\n",
    "        return \"Baa!\"\n",
    "    \n",
    "\n",
    "\n",
    "cow = Cow()\n",
    "sheep = Sheep()\n",
    "\n",
    "print(f\"Cow says: {cow.sound()}\")\n",
    "print(f\"Sheep says: {sheep.sound()}\")"
   ]
  },
  {
   "cell_type": "code",
   "execution_count": 53,
   "id": "2d50c897",
   "metadata": {},
   "outputs": [
    {
     "name": "stdout",
     "output_type": "stream",
     "text": [
      "'1984' by George Orwell, published in 1949\n"
     ]
    }
   ],
   "source": [
    "# 17: Book class with formatted information\n",
    "class Book:\n",
    "    \"\"\"Book class with title, author, year, and formatted information\"\"\"\n",
    "    \n",
    "    def __init__(self, title, author, year_published):\n",
    "        \"\"\"Initialize book with title, author, and publication year\"\"\"\n",
    "        self.title = title\n",
    "        self.author = author\n",
    "        self.year_published = year_published\n",
    "    \n",
    "    def get_book_info(self):\n",
    "        \"\"\"Return a formatted string with book details\"\"\"\n",
    "        return f\"'{self.title}' by {self.author}, published in {self.year_published}\"\n",
    "    \n",
    "\n",
    "\n",
    "book = Book(\"1984\", \"George Orwell\", 1949)\n",
    "print(book.get_book_info()) "
   ]
  },
  {
   "cell_type": "code",
   "execution_count": 54,
   "id": "e22c518a",
   "metadata": {},
   "outputs": [
    {
     "name": "stdout",
     "output_type": "stream",
     "text": [
      "Mansion Details:\n",
      "Address: 123 Luxury Lane\n",
      "Price: $2,500,000\n",
      "Number of Rooms: 12\n"
     ]
    }
   ],
   "source": [
    "# 18: House and Mansion with inheritance\n",
    "class House:\n",
    "    \"\"\"House class with address and price\"\"\"\n",
    "    \n",
    "    def __init__(self, address, price):\n",
    "        \"\"\"Initialize house with address and price\"\"\"\n",
    "        self.address = address\n",
    "        self.price = price\n",
    "    \n",
    "    def display_info(self):\n",
    "        \"\"\"Display house information\"\"\"\n",
    "        print(f\"Address: {self.address}\")\n",
    "        print(f\"Price: ${self.price:,}\")\n",
    "\n",
    "\n",
    "class Mansion(House):\n",
    "    \"\"\"Mansion class that adds number of rooms attribute\"\"\"\n",
    "    \n",
    "    def __init__(self, address, price, number_of_rooms):\n",
    "        \"\"\"Initialize mansion with address, price, and number of rooms\"\"\"\n",
    "        super().__init__(address, price)\n",
    "        self.number_of_rooms = number_of_rooms\n",
    "    \n",
    "    def display_info(self):\n",
    "        \"\"\"Display mansion information including rooms\"\"\"\n",
    "        super().display_info()\n",
    "        print(f\"Number of Rooms: {self.number_of_rooms}\")\n",
    "\n",
    "\n",
    "mansion = Mansion(\"123 Luxury Lane\", 2500000, 12)\n",
    "print(\"Mansion Details:\")\n",
    "mansion.display_info()\n",
    " "
   ]
  }
 ],
 "metadata": {
  "kernelspec": {
   "display_name": ".venv",
   "language": "python",
   "name": "python3"
  },
  "language_info": {
   "codemirror_mode": {
    "name": "ipython",
    "version": 3
   },
   "file_extension": ".py",
   "mimetype": "text/x-python",
   "name": "python",
   "nbconvert_exporter": "python",
   "pygments_lexer": "ipython3",
   "version": "3.13.7"
  }
 },
 "nbformat": 4,
 "nbformat_minor": 5
}
