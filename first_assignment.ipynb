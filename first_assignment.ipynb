{
 "cells": [
  {
   "cell_type": "markdown",
   "id": "f474023e",
   "metadata": {},
   "source": [
    "**Theory Questions**\n",
    "\n",
    "1. What is python, and why is it popular?\n",
    "-> Python is a high lavel, interpreted, beginner friendly programming language by Guido Van Rossum in 1991.\n",
    "It is popular because of its simple syntex, large community and wide range of applications such as web development, data science, automation etc. and  its syntex closely resembles natural English, making it remarkably readable.\n",
    "\n",
    "2. What is an interpreter in Python?\n",
    "-> Pythone interpreter is a program that executes python code line by line(one statement at a time), instead convert a whole program into machine code at once.\n",
    "\n",
    "3. What are pre-defined keywords in Python?\n",
    "-> Pre-defined keywords are reserved special words, that used for some specific programming operations and cannot redefined or used for variable names. examples are 'for', 'while', 'def' etc.\n",
    "\n",
    "4. Can keywords be used as variable names?\n",
    "-> No, those are pre-defined, reserved special keywords for programming operations.\n",
    "\n",
    "5. What is mutability in Python?\n",
    "-> Mutability is a feature that refers to a object  like lists and dictionaries, can be change or altered after created.\n",
    "\n",
    "6. Why are lists mutable, but tuples are immutable?\n",
    "-> Lists are designed to be dynamic, whatever data in this data type that can grow, shrink, and change during program execution.\n",
    "In other hand tuples, conversely are designed to represent fixed collections of data, whatever data in this data type that is fixed or immutable. \n",
    "\n",
    "7. What is the difference between \"==\" and \"is\" operators in Python?\n",
    "-> The \"==\" operator checks the values are equal or not, if values are same it returns true, even if they are in different memory locations.\n",
    "\"is\" operator checks two variables are in the same memory address or not.\n",
    "\n",
    "8.  What are logical operators in Python?\n",
    "-> Those are operator that can used for combine or modify boolean expression, operators are \"and\", \"or\", \"not\".\n",
    "\n",
    "9. What is type casting in Python?\n",
    "-> Type casting, also called type conversion, It is the process of converting data from one type to another type.\n",
    "\n",
    "10. What is the difference between implicit and explicit type casting?\n",
    "-> Implicit type casting happens automatically when python determines that a conversion is safe and necessary. For example when you add an integer and a float, Python automatically converts the integer to a float to perform the operation.\n",
    "Explicit type casting requires manually specific the conversion using functions.\n",
    "\n",
    "11. What is the purpose of conditional statements in Python?\n",
    "-> Conditional statement makes programs are decisions based on different circumstances. This statements makes codes can respond defferently to different inputs or situations.\n",
    "\n",
    "12. How does the elif statement work?\n",
    "-> The elif statement lets you check multiple conditions in sequence without creating nasted if statement. Python executes the first true block and then exits the chain.\n",
    "\n",
    "13. What is the difference between for and while loops?\n",
    "-> 'for' loop used for in advance how many times you want to repeat something or you are process each item in a code.\n",
    "'while' lood used for  situations where you need to repeat something until a certain condition is met or you don't know how meny interactions require.\n",
    "\n",
    "14.  Describe a scenario where a while loop is more suitable than a for loop?\n",
    "-> For example a code, that asking input for a password. you keep asking the user to enter a password, then the program will check is the password is correct or not, and the password meets your ecurity requirements (minimum length, contains numbers and letters, etc.). In that case you cannot predict how many attempts user will take."
   ]
  },
  {
   "cell_type": "code",
   "execution_count": 1,
   "id": "4ff18616",
   "metadata": {},
   "outputs": [
    {
     "name": "stdout",
     "output_type": "stream",
     "text": [
      "Hello, World!\n"
     ]
    }
   ],
   "source": [
    "# 1. Write a Python program to print \"Hello, World!\"\n",
    "print(\"Hello, World!\")"
   ]
  },
  {
   "cell_type": "code",
   "execution_count": 1,
   "id": "45adbed7",
   "metadata": {},
   "outputs": [
    {
     "name": "stdout",
     "output_type": "stream",
     "text": [
      "My name is Suman Mondal and I am 24 years old\n"
     ]
    }
   ],
   "source": [
    "# 2. Write a Python program that displays your name and age\n",
    "name = \"Suman Mondal\"\n",
    "age = 24\n",
    "print(f\"My name is {name} and I am {age} years old\")"
   ]
  },
  {
   "cell_type": "code",
   "execution_count": 11,
   "id": "cc7357b8",
   "metadata": {},
   "outputs": [
    {
     "name": "stdout",
     "output_type": "stream",
     "text": [
      "['False', 'None', 'True', 'and', 'as', 'assert', 'async', 'await', 'break', 'class', 'continue', 'def', 'del', 'elif', 'else', 'except', 'finally', 'for', 'from', 'global', 'if', 'import', 'in', 'is', 'lambda', 'nonlocal', 'not', 'or', 'pass', 'raise', 'return', 'try', 'while', 'with', 'yield']\n"
     ]
    }
   ],
   "source": [
    "# 3. Write code to print all the pre-defined keywords in Python using the keyword library\n",
    "import keyword\n",
    "print(keyword.kwlist)"
   ]
  },
  {
   "cell_type": "code",
   "execution_count": 19,
   "id": "16f8920e",
   "metadata": {},
   "outputs": [
    {
     "name": "stdout",
     "output_type": "stream",
     "text": [
      "hello is not python keyword\n"
     ]
    }
   ],
   "source": [
    "# 4. Write a program that checks if a given word is a Python keyword\n",
    "import keyword\n",
    "word = input(\"Enter a keyword\")\n",
    "if keyword.iskeyword(word):\n",
    "    print(word, \"is python keyword\")\n",
    "else:\n",
    "    print(word, \"is not python keyword\")\n",
    "\n"
   ]
  },
  {
   "cell_type": "code",
   "execution_count": null,
   "id": "ad0bbff0",
   "metadata": {},
   "outputs": [
    {
     "name": "stdout",
     "output_type": "stream",
     "text": [
      "Original list: ['apple', 'banana', 'cherry']\n",
      "Modified list: ['apple', 'banana', 'cherry', 'orange']\n",
      "original tuple: ('red', 'blue', 'green')\n",
      "Error when trying to modify tuple: 'tuple' object does not support item assignment\n",
      "Tuple remains unchanged: ('red', 'blue', 'green')\n"
     ]
    }
   ],
   "source": [
    "# 5. Create a list and tuple in Python, and demonstrate how attempting to change an element works differently for each\n",
    "#list modify\n",
    "my_list = [\"apple\", \"banana\", \"cherry\"] \n",
    "print(\"Original list:\", my_list)\n",
    "my_list.append(\"orange\")\n",
    "print(\"Modified list:\", my_list)\n",
    "\n",
    "#tuple modify\n",
    "my_tuple = (\"red\", \"blue\", \"green\")\n",
    "print(\"original tuple:\", my_tuple)\n",
    "try:\n",
    "    my_tuple[1] = \"yellow\" \n",
    "except TypeError as e:\n",
    "    print(f\"Error when trying to modify tuple: {e}\")\n",
    "\n",
    "print(\"Tuple remains unchanged:\", my_tuple)\n"
   ]
  },
  {
   "cell_type": "code",
   "execution_count": null,
   "id": "cd6ed4c7",
   "metadata": {},
   "outputs": [
    {
     "name": "stdout",
     "output_type": "stream",
     "text": [
      "Before calling function:\n",
      "Number: 5, Text: hello, List: ['1', '2']\n",
      "After calling function:\n",
      "Number: 5, Text: hello, List: ['1', '2', '10']\n"
     ]
    }
   ],
   "source": [
    "#6. Write a function to demonstrate the behavior of mutable and immutable arguments\n",
    "original_num = 5\n",
    "original_text = \"hello\"\n",
    "original_list = [\"1\", \"2\"]\n",
    "print(\"Before calling function:\")\n",
    "print(f\"Number: {original_num}, Text: {original_text}, List: {original_list}\")\n",
    "\n",
    "original_num + 10\n",
    "original_text + \"world\"\n",
    "original_list.append(\"10\")\n",
    "print(\"After calling function:\")\n",
    "print(f\"Number: {original_num}, Text: {original_text}, List: {original_list}\")\n",
    " # int, str are immutable and list is mutable   "
   ]
  },
  {
   "cell_type": "code",
   "execution_count": 56,
   "id": "bd685548",
   "metadata": {},
   "outputs": [
    {
     "name": "stdout",
     "output_type": "stream",
     "text": [
      "Numbers are:  20 and 50\n",
      "addition:  70\n",
      "subtraction:  -30\n",
      "multiplication:  1000\n",
      "division:  0.4\n",
      "floor division:  0\n",
      "modulus:  0\n"
     ]
    }
   ],
   "source": [
    "# 7. Write a program that performs basic arithmetic operations on two user-input number\n",
    "a = int(input(\"Enter the first number: \"))\n",
    "b = int(input(\"Enter the secend number:\"))\n",
    "print(\"Numbers are: \", a , \"and\",  b)\n",
    "print(\"addition: \", a + b)\n",
    "print(\"subtraction: \", a - b)\n",
    "print(\"multiplication: \", a * b)\n",
    "print(\"division: \", a / b)\n",
    "print(\"floor division: \", a // b)\n",
    "print(\"modulus: \", a // b)\n",
    "         "
   ]
  },
  {
   "cell_type": "code",
   "execution_count": 59,
   "id": "13f31113",
   "metadata": {},
   "outputs": [
    {
     "name": "stdout",
     "output_type": "stream",
     "text": [
      "(x > 0) and (y > 0): False\n",
      "(x > 0) or (y < 0): True\n",
      "(x > 0) : False\n"
     ]
    }
   ],
   "source": [
    "# 8. Write a program to demonstrate the use of logical operators\n",
    "x = int(input(\"enter a number: \"))\n",
    "y = int(input(\"enter secend number: \"))\n",
    "print(\"(x > 0) and (y > 0):\", (x > 0) and (y > 0))\n",
    "print(\"(x > 0) or (y < 0):\", (x > 0) or (y < 0))\n",
    "print(\"(x > 0) :\", not (x > 0))\n",
    "\n"
   ]
  },
  {
   "cell_type": "code",
   "execution_count": 61,
   "id": "e18c06d1",
   "metadata": {},
   "outputs": [
    {
     "name": "stdout",
     "output_type": "stream",
     "text": [
      "original input: 111 <class 'str'>\n",
      "as integer: 111 <class 'int'>\n",
      "as float: 111.0 <class 'float'>\n",
      "as bool: True <class 'bool'>\n"
     ]
    }
   ],
   "source": [
    "# 9. Write a Python program to convert user input from string to integer, float, and boolean types\n",
    "user_input = input(\"Enter your choice:\")\n",
    "print(\"original input:\", user_input, type(user_input))\n",
    "try:\n",
    "    int_value = int(user_input)\n",
    "    print(\"as integer:\", int_value, type(int_value))\n",
    "except:\n",
    "    print(\"Cannot convert to int\")\n",
    "try:\n",
    "    float_value = float(user_input)\n",
    "    print(\"as float:\", float_value, type(float_value))\n",
    "except:\n",
    "    print(\"Cannot convert to float\")\n",
    "try:\n",
    "    bool_value = bool(user_input)\n",
    "    print(\"as bool:\", bool_value, type(bool_value))\n",
    "except:\n",
    "    print(\"Cannot convert bool\")\n",
    "\n",
    "\n",
    "    "
   ]
  },
  {
   "cell_type": "code",
   "execution_count": 65,
   "id": "ea644fd5",
   "metadata": {},
   "outputs": [
    {
     "name": "stdout",
     "output_type": "stream",
     "text": [
      "\n",
      "Mixed data list: ['123', '45.6', 'hello', '78']\n",
      "Cannot convert 'hello' to float\n",
      "Successfully converted floats: [123.0, 45.6, 78.0]\n"
     ]
    }
   ],
   "source": [
    "# 10. Write code to demonstrate type casting with list elements\n",
    "mixed_data = [\"123\", \"45.6\", \"hello\", \"78\"]\n",
    "print(f\"\\nMixed data list: {mixed_data}\")\n",
    "converted_floats = []\n",
    "for item in mixed_data:\n",
    "        try:\n",
    "            converted_floats.append(float(item))\n",
    "        except ValueError:\n",
    "            print(f\"Cannot convert '{item}' to float\")\n",
    "            \n",
    "print(f\"Successfully converted floats: {converted_floats}\")"
   ]
  },
  {
   "cell_type": "code",
   "execution_count": 71,
   "id": "9a3aa7e0",
   "metadata": {},
   "outputs": [
    {
     "name": "stdout",
     "output_type": "stream",
     "text": [
      "8 is positive\n"
     ]
    }
   ],
   "source": [
    "# 11. Write a program that checks if a number is positive, negative, or zero\n",
    "num = int(input(\"enter a number: \"))\n",
    "if num > 0:\n",
    "    print(f\"{num} is positive\")\n",
    "elif num < 0:\n",
    "    print(f\"{num} is negative\")\n",
    "else:\n",
    "    print(f\"{num} is zero\")\n"
   ]
  },
  {
   "cell_type": "code",
   "execution_count": 76,
   "id": "a0b30e63",
   "metadata": {},
   "outputs": [
    {
     "name": "stdout",
     "output_type": "stream",
     "text": [
      "1\n",
      "2\n",
      "3\n",
      "4\n",
      "5\n",
      "6\n",
      "7\n",
      "8\n",
      "9\n",
      "10\n"
     ]
    }
   ],
   "source": [
    "# 12. Write a for loop to print numbers from 1 to 10\n",
    "for i in range(1, 11):\n",
    "    print(i)\n"
   ]
  },
  {
   "cell_type": "code",
   "execution_count": 77,
   "id": "f5a915e8",
   "metadata": {},
   "outputs": [
    {
     "name": "stdout",
     "output_type": "stream",
     "text": [
      "sum of even numbers: 650 \n"
     ]
    }
   ],
   "source": [
    "# 13. Write a Python program to find the sum of all even numbers between 1 and 50\n",
    "even_num = sum(range(2, 51, 2))\n",
    "print(f\"sum of even numbers: {even_num} \")"
   ]
  },
  {
   "cell_type": "code",
   "execution_count": 83,
   "id": "b3315d11",
   "metadata": {},
   "outputs": [
    {
     "name": "stdout",
     "output_type": "stream",
     "text": [
      "reversed string: o\n",
      "reversed string: ol\n",
      "reversed string: oll\n",
      "reversed string: olle\n",
      "reversed string: olleh\n"
     ]
    }
   ],
   "source": [
    "#14. Write a program to reverse a string using a while loop\n",
    "text = input(\"enter a string:\")\n",
    "rev_text = \"\"\n",
    "i = len(text) - 1\n",
    "while i >= 0:\n",
    "    rev_text += text[i]\n",
    "    i -= 1\n",
    "    print(\"reversed string:\", rev_text)"
   ]
  },
  {
   "cell_type": "code",
   "execution_count": 81,
   "id": "ced1f5da",
   "metadata": {},
   "outputs": [
    {
     "name": "stdout",
     "output_type": "stream",
     "text": [
      "factorial of 8 is:1\n",
      "factorial of 8 is:2\n",
      "factorial of 8 is:6\n",
      "factorial of 8 is:24\n",
      "factorial of 8 is:120\n",
      "factorial of 8 is:720\n",
      "factorial of 8 is:5040\n",
      "factorial of 8 is:40320\n"
     ]
    }
   ],
   "source": [
    "# 15. Write a Python program to calculate the factorial of a number provided by the user using a while loop\n",
    "number = int(input(\"Enter a positive integer: \"))\n",
    "factorial = 1\n",
    "i = 1\n",
    "while i <= number:\n",
    "    factorial *= i\n",
    "    i += 1\n",
    "    print(f\"factorial of {number} is:{factorial}\")\n",
    "        \n"
   ]
  }
 ],
 "metadata": {
  "kernelspec": {
   "display_name": ".venv",
   "language": "python",
   "name": "python3"
  },
  "language_info": {
   "codemirror_mode": {
    "name": "ipython",
    "version": 3
   },
   "file_extension": ".py",
   "mimetype": "text/x-python",
   "name": "python",
   "nbconvert_exporter": "python",
   "pygments_lexer": "ipython3",
   "version": "3.13.7"
  }
 },
 "nbformat": 4,
 "nbformat_minor": 5
}
