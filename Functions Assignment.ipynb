{
 "cells": [
  {
   "cell_type": "markdown",
   "id": "6cee3e38",
   "metadata": {},
   "source": [
    "1. What is the difference between a function and a method in Python?\n",
    "-> A function is a block of reusable code that is defined independently using the def keyword and can be called directly by its name. It is not associated with any object or class.\n",
    "A method is a function that is associated with an object or class. It is defined inside a class and is called using the dot notation on an object or class.\n",
    "\n",
    "2. Explain the concept of function arguments and parameters in Python.\n",
    "-> Parameters are the variables listed in the function definition. They act as placeholders for the values that will be passed to the function.\n",
    "Arguments are the actual values that are passed to the function when it is called.\n",
    "\n",
    "3. What are the different ways to define and call a function in Python?\n",
    "-> Ways to Define a Function:\n",
    "Regular function definition using def\n",
    "Lambda functions (anonymous functions)\n",
    "Functions with default parameters\n",
    "Functions with variable-length arguments\n",
    "Nested functions (functions inside functions)\n",
    "Decorator functions\n",
    "\n",
    "4. What is the purpose of the return statement in a Python function?\n",
    "-> The return statement is used to:\n",
    "\n",
    "Exit a function and go back to where it was called\n",
    "Send back a value (or multiple values) to the caller\n",
    "End function execution - any code after return is not executed\n",
    "\n",
    "If no return statement is used, the function returns None by default.\n",
    "\n",
    "5. What are iterators in Python and how do they differ from iterables?\n",
    "-> An iterable is any Python object that can return its elements one at a time. Think of it as a container that holds items.\n",
    "An iterator is an object that actually performs the iteration. It remembers where it is in the sequence and knows how to get the next item. \n",
    "\n",
    "6.  Explain the concept of generators in Python and how they are defined.\n",
    "-> A generator is a special type of iterator that is defined using a function with the yield keyword instead of return. Generators provide an elegant way to create iterators without having to write a class with __iter__() and __next__() methods.\n",
    "Generators are defined in two ways: using generator functions with yield, or using generator expressions.\n",
    "\n",
    "7. What are the advantages of using generators over regular functions?\n",
    "-> Generators offer several significant advantages over regular functions that return complete data structures like lists. The primary benefits revolve around memory efficiency, lazy evaluation, and the ability to represent infinite sequences.\n",
    "Memory Efficiency: Regular functions that return lists must create the entire list in memory before returning it.\n",
    "Lazy Evaluation: Generators compute values only when requested, not all at once. This means if you only need the first few items from a potentially large sequence, the generator won't waste time computing values you'll never use. \n",
    "Infinite Sequences: Generators can represent infinite sequences because they don't need to store all values in memory.\n",
    "Pipeline Processing: Generators can be chained together to create data processing pipelines where each stage processes items one at a time, passing results to the next stage without storing intermediate results.\n",
    "\n",
    "8. What is a lambda function in Python and when is it typically used?\n",
    "-> A lambda function is a small anonymous function that is defined without a name using the lambda keyword. The term \"anonymous\" means it doesn't require a formal function definition with def.\n",
    "Lambda functions are typically used in situations where you need a simple function for a short period, especially when passing functions as arguments to higher-order functions like map(), filter(), sorted(), and reduce(). They make code more concise when the function logic is simple enough to fit in one line.\n",
    "\n",
    "9. Explain the purpose and usage of the map() function in Python.\n",
    "-> The map() function is a built-in Python function that applies a given function to every item in an iterable, such as a list, tuple, or string, and returns a map object which is an iterator containing the results. Think of it as a way to transform each element in a collection using the same operation without writing explicit loops.\n",
    "\n",
    "10. What is the difference between map(), reduce(), and filter() functions in Python?\n",
    "-> The map() function transforms each element in an iterable by applying a function to it. It takes every single item, processes it through your function, and produces a new collection with the same number of elements but potentially different values.\n",
    "The filter() function selects elements from an iterable based on a condition. It applies a function that returns True or False to each element, keeping only those elements where the function returns True. \n",
    "The reduce() function, which must be imported from the functools module, takes an iterable and reduces it down to a single accumulated value.\n",
    "\n",
    "11.  Using pen & paper write the internal mechanism for sum operation using reduce function on this given list: [47, 11, 42, 13]\n",
    "-> from functools import reduce\n",
    "\n",
    "# The list we're working with\n",
    "numbers = [47, 11, 42, 13]\n",
    "\n",
    "# The reduce function call\n",
    "result = reduce(lambda acc, x: acc + x, numbers)\n",
    "\n",
    "Step 1 (First Reduction):\n",
    "\n",
    "Accumulator (acc) = 47 (first element)\n",
    "Current element (x) = 11 (second element)\n",
    "Operation: acc + x = 47 + 11 = 58\n",
    "New accumulator value = 58\n",
    "Remaining list: [42, 13]\n",
    "\n",
    "Step 2 (Second Reduction):\n",
    "\n",
    "Accumulator (acc) = 58 (result from previous step)\n",
    "Current element (x) = 42 (third element)\n",
    "Operation: acc + x = 58 + 42 = 100\n",
    "New accumulator value = 100\n",
    "Remaining list: [13]\n",
    "\n",
    "Step 3 (Third Reduction):\n",
    "\n",
    "Accumulator (acc) = 100 (result from previous step)\n",
    "Current element (x) = 13 (fourth element)\n",
    "Operation: acc + x = 100 + 13 = 113\n",
    "New accumulator value = 113\n",
    "Remaining list: [] (empty)\n",
    "\n",
    "Final Result: 113\n",
    "\n",
    "Visual Representation (as you would draw on paper):\n",
    "List: [47, 11, 42, 13]\n",
    "\n",
    "        47\n",
    "        +\n",
    "        11\n",
    "       ----\n",
    "        58\n",
    "        +\n",
    "        42\n",
    "       ----\n",
    "       100\n",
    "        +\n",
    "        13\n",
    "       ----\n",
    "       113  ← Final Result\n"
   ]
  },
  {
   "cell_type": "code",
   "execution_count": 8,
   "id": "de4ee89e",
   "metadata": {},
   "outputs": [
    {
     "name": "stdout",
     "output_type": "stream",
     "text": [
      "30\n"
     ]
    }
   ],
   "source": [
    "# Write a Python function that takes a list of numbers as input and returns the sum of all even numbers in the list.\n",
    "num = [1, 2, 3, 4, 5, 6, 7, 8, 9, 10]\n",
    "def sum_of_numbers(num):\n",
    "    total = 0\n",
    "    for no in num:\n",
    "        if no % 2 == 0:\n",
    "            total += no\n",
    "    return total\n",
    "print(sum_of_numbers(num))"
   ]
  },
  {
   "cell_type": "code",
   "execution_count": 10,
   "id": "77d7a233",
   "metadata": {},
   "outputs": [
    {
     "name": "stdout",
     "output_type": "stream",
     "text": [
      "dlrow olleh\n"
     ]
    }
   ],
   "source": [
    "# Create a Python function that accepts a string and returns the reverse of that string.\n",
    "text = input(str(\"\"))\n",
    "def reverse_string(text):\n",
    "     return text[::-1]\n",
    "print(reverse_string(text))"
   ]
  },
  {
   "cell_type": "code",
   "execution_count": 18,
   "id": "ae49aea9",
   "metadata": {},
   "outputs": [
    {
     "name": "stdout",
     "output_type": "stream",
     "text": [
      "Squared values: [1, 4, 9, 16, 25, 36]\n"
     ]
    }
   ],
   "source": [
    "# Implement a Python function that takes a list of integers and returns a new list containing the squares of each number.\n",
    "def square_numbers(numbers):\n",
    "    return [num ** 2 for num in numbers]\n",
    "\n",
    "\n",
    "nums = input(\"Enter numbers separated by spaces or commas: \")\n",
    "\n",
    "\n",
    "nums = list(map(int, nums.replace(\",\", \" \").split()))\n",
    "\n",
    "\n",
    "print(\"Squared values:\", square_numbers(nums))"
   ]
  },
  {
   "cell_type": "code",
   "execution_count": null,
   "id": "aca03b44",
   "metadata": {},
   "outputs": [],
   "source": [
    "# Write a Python function that checks if a given number is prime or not from 1 to 200.\n",
    "number = [3, 4, 5, 17, 29, 50, 97, 100, 151, 200]\n",
    "def is_prime(number):\n",
    "    if number < 2:\n",
    "        return False\n",
    "    if number == 2:\n",
    "        return True\n",
    "    if number % 2 == 0:\n",
    "        return False\n",
    "    import math\n",
    "    for i in range(3, int(math.sqrt(number)) + 1, 2):\n",
    "        if number % i == 0:\n",
    "            return False\n",
    "        return True\n",
    "    "
   ]
  },
  {
   "cell_type": "code",
   "execution_count": 28,
   "id": "e43794ed",
   "metadata": {},
   "outputs": [
    {
     "name": "stdout",
     "output_type": "stream",
     "text": [
      "0 1 1 2 3 5 8 13 21 34 "
     ]
    }
   ],
   "source": [
    "# Create an iterator class in Python that generates the Fibonacci sequence up to a specified number of terms.\n",
    "class Fibonacci:\n",
    "    def __init__(self, n_terms):\n",
    "        self.n_terms = n_terms   \n",
    "        self.count = 0           \n",
    "        self.a, self.b = 0, 1   \n",
    "\n",
    "    def __iter__(self):\n",
    "        return self   \n",
    "\n",
    "    def __next__(self):\n",
    "        if self.count >= self.n_terms:  \n",
    "            raise StopIteration\n",
    "        if self.count == 0:\n",
    "            self.count += 1\n",
    "            return self.a\n",
    "        elif self.count == 1:\n",
    "            self.count += 1\n",
    "            return self.b\n",
    "        else:\n",
    "            self.a, self.b = self.b, self.a + self.b\n",
    "            self.count += 1\n",
    "            return self.b\n",
    "\n",
    "\n",
    "\n",
    "fib = Fibonacci(10)   \n",
    "\n",
    "for num in fib:\n",
    "    print(num, end=\" \")\n",
    "      \n",
    "      \n",
    "        "
   ]
  },
  {
   "cell_type": "code",
   "execution_count": 31,
   "id": "46dbf68f",
   "metadata": {},
   "outputs": [
    {
     "name": "stdout",
     "output_type": "stream",
     "text": [
      "1 Test : Powers of 2 up to 2^10\n",
      "2 Test : Powers of 2 up to 2^10\n",
      "4 Test : Powers of 2 up to 2^10\n",
      "8 Test : Powers of 2 up to 2^10\n",
      "16 Test : Powers of 2 up to 2^10\n",
      "32 Test : Powers of 2 up to 2^10\n",
      "64 Test : Powers of 2 up to 2^10\n",
      "128 Test : Powers of 2 up to 2^10\n",
      "256 Test : Powers of 2 up to 2^10\n",
      "512 Test : Powers of 2 up to 2^10\n",
      "1024 Test : Powers of 2 up to 2^10\n"
     ]
    }
   ],
   "source": [
    "# Write a generator function in Python that yields the powers of 2 up to a given exponent.\n",
    "def powers_of_2(max_exponent):\n",
    "    exponent = 0\n",
    "    while exponent <= max_exponent:\n",
    "        yield 2 ** exponent\n",
    "        exponent += 1\n",
    "        print(\"Test : Powers of 2 up to 2^10\")\n",
    "for power in powers_of_2(10):\n",
    "    print(power, end=\" \")"
   ]
  },
  {
   "cell_type": "code",
   "execution_count": 34,
   "id": "ad281c40",
   "metadata": {},
   "outputs": [
    {
     "ename": "SyntaxError",
     "evalue": "unexpected character after line continuation character (3762052851.py, line 2)",
     "output_type": "error",
     "traceback": [
      "  \u001b[36mCell\u001b[39m\u001b[36m \u001b[39m\u001b[32mIn[34]\u001b[39m\u001b[32m, line 2\u001b[39m\n\u001b[31m    \u001b[39m\u001b[31mdef read_file_line_by_line(E:\\python\\ textsample.txt):\u001b[39m\n                                  ^\n\u001b[31mSyntaxError\u001b[39m\u001b[31m:\u001b[39m unexpected character after line continuation character\n"
     ]
    }
   ],
   "source": [
    "#  Implement a generator function that reads a file line by line and yields each line as a string.\n",
    "def read_file_line_by_line(E:\\python\\ textsample.txt):\n",
    "    \"\"\"Generator function to read a file line by line.\"\"\"\n",
    "    with open( textsample.txt, \"r\") as file:\n",
    "        for line in file:\n",
    "            yield line.strip()   # strip() removes extra spaces and newline characters\n",
    "\n",
    " read_file_line_by_line(\"E:\\python\\sample text.txt\"):\n",
    "print(line)\n",
    "    "
   ]
  },
  {
   "cell_type": "code",
   "execution_count": 35,
   "id": "de1ffa9d",
   "metadata": {},
   "outputs": [
    {
     "name": "stdout",
     "output_type": "stream",
     "text": [
      "\n",
      "Sorted by age (ascending):\n",
      "[('Bob', 20), ('Eve', 21), ('David', 22), ('Charlie', 23), ('Alice', 25)]\n"
     ]
    }
   ],
   "source": [
    "# Use a lambda function in Python to sort a list of tuples based on the second element of each tuple.\n",
    "students = [\n",
    "    (\"Alice\", 25),\n",
    "    (\"Bob\", 20),\n",
    "    (\"Charlie\", 23),\n",
    "    (\"David\", 22),\n",
    "    (\"Eve\", 21)\n",
    "]\n",
    "sorted_students = sorted(students, key=lambda x: x[1])\n",
    "\n",
    "print(\"\\nSorted by age (ascending):\")\n",
    "print(sorted_students)"
   ]
  },
  {
   "cell_type": "code",
   "execution_count": 38,
   "id": "42ae2cb9",
   "metadata": {},
   "outputs": [
    {
     "name": "stdout",
     "output_type": "stream",
     "text": [
      "Fahrenheit temperatures: [32.0, 50.0, 68.0, 77.0, 86.0, 98.6, 104.0, 212.0]\n"
     ]
    }
   ],
   "source": [
    "# Write a Python program that uses map() to convert a list of temperatures from Celsius to Fahrenheit.\n",
    "fahrenheit_temps = list(map(lambda c: (c * 9/5) + 32, celsius_temps))\n",
    "\n",
    "print(f\"Fahrenheit temperatures: {fahrenheit_temps}\")"
   ]
  },
  {
   "cell_type": "code",
   "execution_count": 40,
   "id": "91cc88de",
   "metadata": {},
   "outputs": [
    {
     "name": "stdout",
     "output_type": "stream",
     "text": [
      "Without vowels: 'Hll Wrld'\n"
     ]
    }
   ],
   "source": [
    "# Create a Python program that uses filter() to remove all the vowels from a given string.\n",
    "text = \"Hello World\"\n",
    "vowels = \"aeiouAEIOU\"\n",
    "filtered_chars = filter(lambda char: char not in vowels, text)\n",
    "result = ''.join(filtered_chars)\n",
    "\n",
    "print(f\"Without vowels: '{result}'\")"
   ]
  },
  {
   "cell_type": "code",
   "execution_count": 41,
   "id": "13538db5",
   "metadata": {},
   "outputs": [
    {
     "name": "stdout",
     "output_type": "stream",
     "text": [
      "--- Final List of 2-Tuples (Order Number, Final Value) ---\n",
      "[(34587, 163.8), (98762, 284.0), (77226, 108.85000000000001), (88112, 84.97)]\n",
      "\n",
      "--- Detailed Output ---\n",
      "Order: 34587, Final Value: 163.80 €\n",
      "Order: 98762, Final Value: 284.00 €\n",
      "Order: 77226, Final Value: 108.85 €\n",
      "Order: 88112, Final Value: 84.97 €\n"
     ]
    }
   ],
   "source": [
    "# Imagine an accounting routine used in a book shop. It works on a list with sublists, which look like this:\n",
    "#Order Number\tBook Title and Author\tQuantity\tPrice per Item\n",
    "#34587\tLearning Python, Mark Lutz\t4\t40.95\n",
    "#98762\tProgramming Python, Mark Lutz\t5\t56.80\n",
    "#77226\tHead First Python, Paul Barry\t3\t32.95\n",
    "#88112\tEinführung in Python3, Bernd Klein\t3\t24.99\n",
    "\n",
    "#Export to Sheets\n",
    "#Write a Python program, which returns a list with 2-tuples. Each tuple consists of the order number and the product of the price per item and the quantity. The product should be increased by 10.00 € if the value of the order is smaller than 100.00 €.\n",
    "\n",
    "orders_data = [\n",
    "    [34587, \"Learning Python, Mark Lutz\", 4, 40.95],\n",
    "    [98762, \"Programming Python, Mark Lutz\", 5, 56.80],\n",
    "    [77226, \"Head First Python, Paul Barry\", 3, 32.95],\n",
    "    [88112, \"Einführung in Python3, Bernd Klein\", 3, 24.99]\n",
    "]\n",
    "process_order = lambda order: (\n",
    "    order[0],  \n",
    "    (order[2] * order[3]) + (10.00 if (order[2] * order[3]) < 100.00 else 0)\n",
    ")\n",
    "processed_orders = list(map(process_order, orders_data))\n",
    "print(\"--- Final List of 2-Tuples (Order Number, Final Value) ---\")\n",
    "print(processed_orders)\n",
    "print(\"\\n--- Detailed Output ---\")\n",
    "for order_num, final_value in processed_orders:\n",
    "    print(f\"Order: {order_num}, Final Value: {final_value:.2f} €\")"
   ]
  }
 ],
 "metadata": {
  "kernelspec": {
   "display_name": ".venv",
   "language": "python",
   "name": "python3"
  },
  "language_info": {
   "codemirror_mode": {
    "name": "ipython",
    "version": 3
   },
   "file_extension": ".py",
   "mimetype": "text/x-python",
   "name": "python",
   "nbconvert_exporter": "python",
   "pygments_lexer": "ipython3",
   "version": "3.13.7"
  }
 },
 "nbformat": 4,
 "nbformat_minor": 5
}
