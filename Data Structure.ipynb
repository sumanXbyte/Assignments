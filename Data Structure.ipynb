{
 "cells": [
  {
   "cell_type": "markdown",
   "id": "9b5e1d95",
   "metadata": {},
   "source": [
    "1. What are data structures, and why are they important?\n",
    "-> Data structure is organized ways of storing and arranging data in computer memory so that it can be accessed and modifyed the code.\n",
    "\n",
    "2. Explain the difference between mutable and immutable data types with examples.\n",
    "-> Mutable data types can be change after created, it means you can modify their contents without creating a new object.\n",
    "Immutable data types cannot be changed once created. Any modification actually creates a completely new object.\n",
    "\n",
    "3. What are the main differences between lists and tuples in Python?\n",
    "-> They both are store multiple items but 'Lists' are mutable, meaning you can change their contents after creation. They're like a dynamic shopping list where you can add, remove, or modify items throughout your shopping trip.\n",
    "'Tuples' are immutable, meaning their contents are fixed once created. They're like a photograph - capturing a moment in time that cannot be altered.\n",
    "\n",
    "4. Describe how dictionaries store data?\n",
    "-> Dictionaries store data as a key - value pair, similer to how real dictionary store words and defination. Each piece of data (the value) is associated with a unique identifier (the key).\n",
    "\n",
    "5.  Why might you use a set instead of a list in Python?\n",
    "-> The most obvious advantage is that sets automatically eliminate duplicates - if you try to add the same element twice, the set simply ignores the duplicate attempt. \n",
    "List is mutable so it can be changeable and their data also and it did not eliminate duplicates.\n",
    "\n",
    "6. What is a string in Python, and how is it different from a list?\n",
    "-> A string in Python is a sequence of characters specifically designed to represent and manipulate text data.\n",
    "Strings are immutable and come with specialized methods for text processing like split(), replace(), strip(), and upper().\n",
    "Lists, conversely, are mutable containers designed for storing collections of any data type. You can modify lists in-place using methods like append() and remove().\n",
    "\n",
    "7. How do tuples ensure data integrity in Python?\n",
    "-> Tuples provide security of data integrity through their immutable nature, it providing that once created neither the structure nor the contents can be altered. This immutability serves as a protective barrier against accidental modifications that could introduce subtle bugs into your programs.\n",
    "\n",
    "8. What is a hash table, and how does it relate to dictionaries in Python?\n",
    "-> A hash table is the ingenious data structure that makes Python dictionaries so remarkably efficient. \n",
    "The hash table works by taking a key and running it through a hash function, which produces a unique number called a hash value. This number determines exactly where in memory the associated value should be stored. \n",
    "\n",
    "9.  Can lists contain different data types in Python?\n",
    "-> Yes, Python lists are heterogeneous, meaning they can contain elements of completely different data types within the same list structure.\n",
    "\n",
    "10. Explain why strings are immutable in Python?\n",
    "-> String immutability in Python serves several crucial purposes that enhance both security and performance in ways that might not be immediately obvious. When strings cannot be changed, Python can implement powerful optimizations like string interning, where identical strings share the same memory location.From a security perspective, immutable strings prevent malicious or accidental modification of critical data like passwords, configuration settings, or security tokens after they've been validated.\n",
    "\n",
    "11. What advantages do dictionaries offer over lists for certain tasks?\n",
    "-> The performance advantage becomes dramatic when dealing with lookups in large datasets. Finding an item in a list requires checking each element sequentially until you find a match, which means the time increases linearly with the list size. Dictionary lookups, however, use hashing to jump directly to the correct location.\n",
    "\n",
    "12. Describe a scenario where using a tuple would be preferable over a list?\n",
    "-> Consider a scenario where you're building a graphics application that works with coordinate points. Each point has an x and y coordinate that, once established, should never change accidentally. Using a tuple like point = (10, 20) ensures that the coordinate cannot be accidentally modified by other parts of your program.\n",
    "\n",
    "13. How do sets handle duplicate values in Python?\n",
    "-> Sets handle duplicates through their fundamental mathematical definition - a set is a collection of unique elements where duplicates simply cannot exist. When you attempt to add an element that already exists in a set, the operation is silently ignored rather than creating a duplicate entry or raising an error.\n",
    "\n",
    "14.  How does the \"in\" keyword work differently for lists and dictionaries?\n",
    "-> When you use \"in\" with a list, Python must potentially examine every element in the list sequentially until it either finds the target value or reaches the end of the list.\n",
    "With dictionaries, the \"in\" keyword checks for the existence of keys, not values, and uses the same lightning-fast hashing mechanism that makes dictionary access so efficient. When you write key in my_dict, Python calculates the hash of the key and checks if that hash exists in the dictionary.\n",
    "\n",
    "15. Can you modify the elements of a tuple? Explain why or why not?\n",
    "-> You cannot modify the elements of a tuple due to its immutable nature, which is built into the fundamental design of the tuple data type. When Python creates a tuple, it allocates memory in a way that prevents any changes to either the tuple's structure or its contents.\n",
    "\n",
    "16. What is a nested dictionary, and give an example of its use case?\n",
    "-> A nested dictionary is a dictionary that contains other dictionaries as values, creating a hierarchical data structure that can represent complex, multi-layered information. Think of it like a filing cabinet system where the main cabinet has drawers, each drawer contains folders, and each folder contains documents.\n",
    "Consider this example of a company management system.\n",
    "\n",
    "17. Describe the time complexity of accessing elements in a dictionary\n",
    "-> Dictionary element access has an average time complexity of O(1), meaning it takes constant time regardless of how many elements the dictionary contains. This remarkable efficiency stems from the hash table implementation that underlies Python dictionaries, making them one of the most performance-optimized data structures in the language.\n",
    "\n",
    "18. In what situations are lists preferred over dictionaries?\n",
    "-> Lists excel in situations where the order and position of elements carry significant meaning, and when you're working with sequences of similar data that need to be processed in a specific sequence. If you're storing a series of temperature readings taken throughout the day, the order is fundamentally important - the first temperature was recorded first, the second was recorded second, and this temporal relationship is crucial to your data's meaning.\n",
    "\n",
    "19. Why are dictionaries considered unordered, and how does that affect data retrieval?\n",
    "-> In Python versions before 3.7, dictionaries were considered unordered because the underlying hash table implementation prioritized speed and efficiency over maintaining the sequence in which items were added. The hash function would determine storage locations based on mathematical calculations rather than insertion order, making it unpredictable to iterate through dictionary items in any particular sequence.\n",
    "Since Python 3.7, dictionaries maintain insertion order as an implementation detail, and since Python 3.8, this ordering behavior is guaranteed by the language specification.\n",
    "\n",
    "20. Explain the difference between a list and a dictionary in terms of data retrieval\n",
    "->  Lists use positional indexing, where you access elements by their integer position: my_list[0] retrieves the first element, my_list[1] gets the second, and so forth. This approach works exceptionally well when the position itself carries meaning or when you need to process elements sequentially, but it requires you to remember or calculate the correct index for the data you want.\n",
    "Dictionaries use key-based access, where you retrieve values using meaningful, descriptive identifiers: my_dict['name'] or my_dict['age']. This approach is incredibly efficient because Python can calculate exactly where the data is stored using hash functions, eliminating the need to search through elements."
   ]
  },
  {
   "cell_type": "code",
   "execution_count": 1,
   "id": "9b76dd4d",
   "metadata": {},
   "outputs": [
    {
     "name": "stdout",
     "output_type": "stream",
     "text": [
      "suman mondal\n"
     ]
    }
   ],
   "source": [
    "# 1: Write a code to create a string with your name and print it\n",
    "name = \"suman mondal\"\n",
    "print(name)"
   ]
  },
  {
   "cell_type": "code",
   "execution_count": 3,
   "id": "afedc497",
   "metadata": {},
   "outputs": [
    {
     "name": "stdout",
     "output_type": "stream",
     "text": [
      "length of 'hello world': 11\n"
     ]
    }
   ],
   "source": [
    "# 2: Write a code to find the length of the string \"Hello World\"\n",
    "text = \"hello world\"\n",
    "length = len(text)\n",
    "print(f\"length of '{text}': {length}\")"
   ]
  },
  {
   "cell_type": "code",
   "execution_count": 4,
   "id": "072ce280",
   "metadata": {},
   "outputs": [
    {
     "name": "stdout",
     "output_type": "stream",
     "text": [
      "first 3 lettersof'python programming': 'pyt'\n"
     ]
    }
   ],
   "source": [
    "# 3: Write a code to slice the first 3 characters from the string \"Python Programming\"\n",
    "text = \"python programming\"\n",
    "first_three = text[:3]\n",
    "print(f\"first 3 lettersof'{text}': '{first_three}'\")"
   ]
  },
  {
   "cell_type": "code",
   "execution_count": 5,
   "id": "89ed9d71",
   "metadata": {},
   "outputs": [
    {
     "name": "stdout",
     "output_type": "stream",
     "text": [
      "HELLO\n"
     ]
    }
   ],
   "source": [
    "# 4: Write a code to convert the string \"hello\" to uppercase\n",
    "text = \"hello\"\n",
    "new = text.upper()\n",
    "print(new)"
   ]
  },
  {
   "cell_type": "code",
   "execution_count": 7,
   "id": "e100f2f7",
   "metadata": {},
   "outputs": [
    {
     "name": "stdout",
     "output_type": "stream",
     "text": [
      "I like orange\n"
     ]
    }
   ],
   "source": [
    "# 5: Write a code to replace the word \"apple\" with \"orange\" in the string \"I like apple\"\n",
    "text = \"I like apple\"\n",
    "new = text.replace(\"apple\", \"orange\")\n",
    "print(new)"
   ]
  },
  {
   "cell_type": "code",
   "execution_count": 8,
   "id": "0473a552",
   "metadata": {},
   "outputs": [
    {
     "name": "stdout",
     "output_type": "stream",
     "text": [
      "[1, 2, 3, 4, 5]\n"
     ]
    }
   ],
   "source": [
    "# 6: Write a code to create a list with numbers 1 to 5 and print it\n",
    "num = [1, 2, 3, 4, 5]\n",
    "print(num)"
   ]
  },
  {
   "cell_type": "code",
   "execution_count": 9,
   "id": "d6ebc9ef",
   "metadata": {},
   "outputs": [
    {
     "name": "stdout",
     "output_type": "stream",
     "text": [
      "Original list: [1, 2, 3, 4]\n",
      "After appending 10: [1, 2, 3, 4, 10]\n"
     ]
    }
   ],
   "source": [
    "# 7: Write a code to append the number 10 to the list [1, 2, 3, 4]\n",
    "list = [1, 2, 3, 4]\n",
    "print(f\"Original list: {list}\")\n",
    "list.append(10)\n",
    "print(f\"After appending 10: {list}\")\n"
   ]
  },
  {
   "cell_type": "code",
   "execution_count": 10,
   "id": "dad442c0",
   "metadata": {},
   "outputs": [
    {
     "name": "stdout",
     "output_type": "stream",
     "text": [
      "Original list: [1, 2, 3, 4, 5]\n",
      "After removing 3: [1, 2, 4, 5]\n"
     ]
    }
   ],
   "source": [
    "# 8: Write a code to remove the number 3 from the list [1, 2, 3, 4, 5]\n",
    "my_list = [1, 2, 3, 4, 5]\n",
    "print(f\"Original list: {my_list}\")\n",
    "my_list.remove(3)\n",
    "print(f\"After removing 3: {my_list}\")"
   ]
  },
  {
   "cell_type": "code",
   "execution_count": 1,
   "id": "9341d860",
   "metadata": {},
   "outputs": [
    {
     "name": "stdout",
     "output_type": "stream",
     "text": [
      "List: ['a', 'b', 'c', 'd']\n",
      "Second element: 'b'\n"
     ]
    }
   ],
   "source": [
    "# 9: Write a code to access the second element in the list ['a', 'b', 'c', 'd']\n",
    "lst = ['a', 'b', 'c', 'd']\n",
    "sec_lst = lst[1]\n",
    "print(f\"List: {lst}\")\n",
    "print(f\"Second element: '{sec_lst}'\")"
   ]
  },
  {
   "cell_type": "code",
   "execution_count": 3,
   "id": "03709a6f",
   "metadata": {},
   "outputs": [
    {
     "name": "stdout",
     "output_type": "stream",
     "text": [
      "[50, 40, 30, 20, 10]\n"
     ]
    }
   ],
   "source": [
    "# 10: Write a code to reverse the list [10, 20, 30, 40, 50]\n",
    "list = [10, 20, 30, 40, 50]\n",
    "list.reverse()\n",
    "print(list)"
   ]
  },
  {
   "cell_type": "code",
   "execution_count": 4,
   "id": "a2019743",
   "metadata": {},
   "outputs": [
    {
     "name": "stdout",
     "output_type": "stream",
     "text": [
      "(100, 200, 300)\n"
     ]
    }
   ],
   "source": [
    "# 11: Write a code to create a tuple with the elements 100, 200, 300 and print it\n",
    "my_tuple = (100, 200, 300)\n",
    "print(my_tuple)"
   ]
  },
  {
   "cell_type": "code",
   "execution_count": 5,
   "id": "5df8b647",
   "metadata": {},
   "outputs": [
    {
     "name": "stdout",
     "output_type": "stream",
     "text": [
      "blue\n"
     ]
    }
   ],
   "source": [
    "# 12: Write a code to access the second-to-last element of the tuple ('red', 'green', 'blue', 'yellow')\n",
    "colors = ('red', 'green', 'blue', 'yellow')\n",
    "second_to_last = colors[-2] \n",
    "print(second_to_last)"
   ]
  },
  {
   "cell_type": "code",
   "execution_count": 6,
   "id": "396fe495",
   "metadata": {},
   "outputs": [
    {
     "name": "stdout",
     "output_type": "stream",
     "text": [
      "minimum no: 5\n"
     ]
    }
   ],
   "source": [
    "# 13: Write a code to find the minimum number in the tuple (10, 20, 5, 15)\n",
    "numbers = (10, 20, 5, 15)\n",
    "mini = min(numbers)\n",
    "print(f\"minimum no: {mini}\")"
   ]
  },
  {
   "cell_type": "code",
   "execution_count": 7,
   "id": "f709df2d",
   "metadata": {},
   "outputs": [
    {
     "name": "stdout",
     "output_type": "stream",
     "text": [
      "index of cat: '1'\n"
     ]
    }
   ],
   "source": [
    "# 14: Write a code to find the index of the element \"cat\" in the tuple ('dog', 'cat', 'rabbit')\n",
    "animal = ('dog', 'cat', 'rabbit')\n",
    "c = animal.index('cat')\n",
    "print(f\"index of cat: '{c}'\")"
   ]
  },
  {
   "cell_type": "code",
   "execution_count": 8,
   "id": "ab0f2a1f",
   "metadata": {},
   "outputs": [
    {
     "name": "stdout",
     "output_type": "stream",
     "text": [
      "Fruits tuple: ('apple', 'banana', 'orange')\n",
      "Is 'kiwi' in the tuple? False\n"
     ]
    }
   ],
   "source": [
    "# 15: Write a code to create a tuple containing three different fruits and check if \"kiwi\" is in it\n",
    "fruits = ('apple', 'banana', 'orange')\n",
    "print(f\"Fruits tuple: {fruits}\")\n",
    "is_it_present = 'kiwi' in fruits\n",
    "print(f\"Is 'kiwi' in the tuple? {is_it_present}\")\n"
   ]
  },
  {
   "cell_type": "code",
   "execution_count": 9,
   "id": "09cd618a",
   "metadata": {},
   "outputs": [
    {
     "name": "stdout",
     "output_type": "stream",
     "text": [
      "{'b', 'c', 'a'}\n"
     ]
    }
   ],
   "source": [
    "# 16: Write a code to create a set with the elements 'a', 'b', 'c' and print it\n",
    "my_set = {'a', 'b', 'c'}\n",
    "print(my_set)"
   ]
  },
  {
   "cell_type": "code",
   "execution_count": 11,
   "id": "7fe07ef8",
   "metadata": {},
   "outputs": [
    {
     "name": "stdout",
     "output_type": "stream",
     "text": [
      "Original set: {1, 2, 3, 4, 5}\n",
      "After removed all: set()\n"
     ]
    }
   ],
   "source": [
    "# 17: Write a code to clear all elements from the set {1, 2, 3, 4, 5}\n",
    "my_set = {1, 2, 3, 4, 5}\n",
    "print(f\"Original set: {my_set}\")\n",
    "my_set.clear()\n",
    "print(f\"After removed all: {my_set}\")"
   ]
  },
  {
   "cell_type": "code",
   "execution_count": 12,
   "id": "10750c6f",
   "metadata": {},
   "outputs": [
    {
     "name": "stdout",
     "output_type": "stream",
     "text": [
      "{1, 2, 3}\n"
     ]
    }
   ],
   "source": [
    "# 18: Write a code to remove the element 4 from the set {1, 2, 3, 4}\n",
    "my_set = {1, 2, 3, 4}\n",
    "my_set.remove(4)\n",
    "print(my_set)"
   ]
  },
  {
   "cell_type": "code",
   "execution_count": 15,
   "id": "b40f5b34",
   "metadata": {},
   "outputs": [
    {
     "name": "stdout",
     "output_type": "stream",
     "text": [
      "Union: {1, 2, 3, 4, 5}\n"
     ]
    }
   ],
   "source": [
    "# 19: Write a code to find the union of two sets {1, 2, 3} and {3, 4, 5}\n",
    "set1 = {1, 2, 3}\n",
    "set2 = {3, 4, 5}\n",
    "union_set2 = set1 | set2\n",
    "print(f\"Union: {union_set2}\")"
   ]
  },
  {
   "cell_type": "code",
   "execution_count": 16,
   "id": "7879ae73",
   "metadata": {},
   "outputs": [
    {
     "name": "stdout",
     "output_type": "stream",
     "text": [
      "{2, 3}\n"
     ]
    }
   ],
   "source": [
    "# 20: Write a code to find the intersection of two sets {1, 2, 3} and {2, 3, 4}\n",
    "set1 = {1, 2, 3}\n",
    "set2 = {2, 3, 4}\n",
    "intersection_sets = set1 & set2\n",
    "print(intersection_sets)"
   ]
  },
  {
   "cell_type": "code",
   "execution_count": 17,
   "id": "0daede0c",
   "metadata": {},
   "outputs": [
    {
     "name": "stdout",
     "output_type": "stream",
     "text": [
      "Dictionary with name, age, and city: {'name': 'suman', 'age': 25, 'city': 'kolkata'}\n",
      "\n"
     ]
    }
   ],
   "source": [
    "# 21: Write a code to create a dictionary with the keys \"name\", \"age\", and \"city\", and print it\n",
    "person = {\n",
    "    \"name\": \"suman\",\n",
    "    \"age\": 25,\n",
    "    \"city\": \"kolkata\"\n",
    "}\n",
    "print(f\"Dictionary with name, age, and city: {person}\")\n",
    "print()\n"
   ]
  },
  {
   "cell_type": "code",
   "execution_count": 19,
   "id": "9716e658",
   "metadata": {},
   "outputs": [
    {
     "name": "stdout",
     "output_type": "stream",
     "text": [
      "{'name': 'John', 'age': 25, 'country': 'USA'}\n"
     ]
    }
   ],
   "source": [
    "# 22: Write a code to add a new key-value pair \"country\": \"USA\" to the dictionary {'name': 'John', 'age': 25}\n",
    "person = {'name': 'John', 'age': 25}\n",
    "person['country'] = 'USA'\n",
    "print(person)"
   ]
  },
  {
   "cell_type": "code",
   "execution_count": 20,
   "id": "bcbdf3e6",
   "metadata": {},
   "outputs": [
    {
     "name": "stdout",
     "output_type": "stream",
     "text": [
      "Alice\n"
     ]
    }
   ],
   "source": [
    "# 23: Write a code to access the value associated with the key \"name\" in the dictionary {'name': 'Alice', 'age': 30}\n",
    "person = {'name': 'Alice', 'age': 30}\n",
    "value = person['name']\n",
    "print(value)"
   ]
  },
  {
   "cell_type": "code",
   "execution_count": 23,
   "id": "837aac30",
   "metadata": {},
   "outputs": [
    {
     "name": "stdout",
     "output_type": "stream",
     "text": [
      "{'name': 'Bob', 'city': 'New York'}\n"
     ]
    }
   ],
   "source": [
    "# 24: Write a code to remove the key \"age\" from the dictionary {'name': 'Bob', 'age': 22, 'city': 'New York'}\n",
    "person = {'name': 'Bob', 'age': 22, 'city': 'New York'}\n",
    "new_value = person.pop('age')\n",
    "print(person)"
   ]
  },
  {
   "cell_type": "code",
   "execution_count": 24,
   "id": "e605a733",
   "metadata": {},
   "outputs": [
    {
     "name": "stdout",
     "output_type": "stream",
     "text": [
      "True\n"
     ]
    }
   ],
   "source": [
    "# 25: Write a code to check if the key \"city\" exists in the dictionary {'name': 'Alice', 'city': 'Paris'}\n",
    "person = {'name': 'Alice', 'city': 'Paris'}\n",
    "city_exists = 'city' in person\n",
    "print(city_exists)\n"
   ]
  },
  {
   "cell_type": "code",
   "execution_count": 25,
   "id": "7c5b2f83",
   "metadata": {},
   "outputs": [
    {
     "name": "stdout",
     "output_type": "stream",
     "text": [
      "List: [1, 2, 3, 4, 5]\n",
      "Tuple: ('red', 'green', 'blue')\n",
      "Dictionary: {'name': 'John', 'age': 30, 'city': 'London'}\n"
     ]
    }
   ],
   "source": [
    "# 26: Write a code to create a list, a tuple, and a dictionary, and print them all\n",
    "my_list = [1, 2, 3, 4, 5]\n",
    "my_tuple = ('red', 'green', 'blue')\n",
    "my_dict = {'name': 'John', 'age': 30, 'city': 'London'}\n",
    "\n",
    "print(f\"List: {my_list}\")\n",
    "print(f\"Tuple: {my_tuple}\")\n",
    "print(f\"Dictionary: {my_dict}\")\n"
   ]
  },
  {
   "cell_type": "code",
   "execution_count": 28,
   "id": "47e7ee0b",
   "metadata": {},
   "outputs": [
    {
     "name": "stdout",
     "output_type": "stream",
     "text": [
      "Random numbers: [89, 75, 77, 24, 79]\n",
      "Sorted in ascending order: [24, 75, 77, 79, 89]\n"
     ]
    }
   ],
   "source": [
    "# 27: Write a code to create a list of 5 random numbers between 1 and 100, sort it in ascending order, and print the result\n",
    "import random\n",
    "random_numbers = [random.randint(1, 100) for _ in range(5)]\n",
    "print(f\"Random numbers: {random_numbers}\")\n",
    "random_numbers.sort()\n",
    "print(f\"Sorted in ascending order: {random_numbers}\")"
   ]
  },
  {
   "cell_type": "code",
   "execution_count": 29,
   "id": "b5aefae0",
   "metadata": {},
   "outputs": [
    {
     "name": "stdout",
     "output_type": "stream",
     "text": [
      "date\n"
     ]
    }
   ],
   "source": [
    "# 28: Write a code to create a list with strings and print the element at the third index\n",
    "string_list = ['apple', 'banana', 'cherry', 'date', 'elderberry']\n",
    "third_index_element = string_list[3]\n",
    "print(third_index_element)"
   ]
  },
  {
   "cell_type": "code",
   "execution_count": 30,
   "id": "0622dce2",
   "metadata": {},
   "outputs": [
    {
     "name": "stdout",
     "output_type": "stream",
     "text": [
      "combine dictionaries: {'name': 'Alice', 'age': 25, 'city': 'Paris', 'country': 'France'}\n"
     ]
    }
   ],
   "source": [
    "# 29: Write a code to combine two dictionaries into one and print the result\n",
    "dict1 = {'name': 'Alice', 'age': 25}\n",
    "dict2 = {'city': 'Paris', 'country': 'France'}\n",
    "new = dict1 | dict2\n",
    "print(f\"combine dictionaries: {new}\")\n"
   ]
  },
  {
   "cell_type": "code",
   "execution_count": 32,
   "id": "5e2912dc",
   "metadata": {},
   "outputs": [
    {
     "name": "stdout",
     "output_type": "stream",
     "text": [
      "{'apple', 'cherry', 'banana', 'date'}\n"
     ]
    }
   ],
   "source": [
    "# 30: Write a code to convert a list of strings into a set\n",
    "string_list = ['apple', 'banana', 'apple', 'cherry', 'banana', 'date']\n",
    "string_set = set(string_list)\n",
    "print(string_set)\n"
   ]
  }
 ],
 "metadata": {
  "kernelspec": {
   "display_name": ".venv",
   "language": "python",
   "name": "python3"
  },
  "language_info": {
   "codemirror_mode": {
    "name": "ipython",
    "version": 3
   },
   "file_extension": ".py",
   "mimetype": "text/x-python",
   "name": "python",
   "nbconvert_exporter": "python",
   "pygments_lexer": "ipython3",
   "version": "3.13.7"
  }
 },
 "nbformat": 4,
 "nbformat_minor": 5
}
